{
 "cells": [
  {
   "cell_type": "code",
   "execution_count": 9,
   "id": "thick-immigration",
   "metadata": {},
   "outputs": [],
   "source": [
    "import geopandas as gpd\n",
    "import keplergl as kl"
   ]
  },
  {
   "cell_type": "code",
   "execution_count": 10,
   "id": "polished-detector",
   "metadata": {},
   "outputs": [
    {
     "data": {
      "text/plain": [
       "(85014, 17)"
      ]
     },
     "execution_count": 10,
     "metadata": {},
     "output_type": "execute_result"
    }
   ],
   "source": [
    "# Get mesh blocks data\n",
    "mbs = gpd.read_file(\"zip://../data/mb_2016_vic_shape.zip\", low_memory=False)\n",
    "mbs.shape"
   ]
  },
  {
   "cell_type": "code",
   "execution_count": 11,
   "id": "direct-bargain",
   "metadata": {},
   "outputs": [
    {
     "data": {
      "text/plain": [
       "(85006, 17)"
      ]
     },
     "execution_count": 11,
     "metadata": {},
     "output_type": "execute_result"
    }
   ],
   "source": [
    "mbs = mbs.dropna()\n",
    "mbs.shape"
   ]
  },
  {
   "cell_type": "code",
   "execution_count": 12,
   "id": "considered-sudan",
   "metadata": {},
   "outputs": [
    {
     "data": {
      "text/plain": [
       "(56371, 17)"
      ]
     },
     "execution_count": 12,
     "metadata": {},
     "output_type": "execute_result"
    }
   ],
   "source": [
    "# Get Greater melbourne\n",
    "gmel = mbs[mbs.GCC_NAME16.isin(['Greater Melbourne'])]\n",
    "gmel.shape"
   ]
  },
  {
   "cell_type": "code",
   "execution_count": 13,
   "id": "signal-letter",
   "metadata": {},
   "outputs": [
    {
     "data": {
      "text/html": [
       "<div>\n",
       "<style scoped>\n",
       "    .dataframe tbody tr th:only-of-type {\n",
       "        vertical-align: middle;\n",
       "    }\n",
       "\n",
       "    .dataframe tbody tr th {\n",
       "        vertical-align: top;\n",
       "    }\n",
       "\n",
       "    .dataframe thead th {\n",
       "        text-align: right;\n",
       "    }\n",
       "</style>\n",
       "<table border=\"1\" class=\"dataframe\">\n",
       "  <thead>\n",
       "    <tr style=\"text-align: right;\">\n",
       "      <th></th>\n",
       "      <th>MB_CODE16</th>\n",
       "      <th>MB_CAT16</th>\n",
       "      <th>SA1_MAIN16</th>\n",
       "      <th>SA1_7DIG16</th>\n",
       "      <th>SA2_MAIN16</th>\n",
       "      <th>SA2_5DIG16</th>\n",
       "      <th>SA2_NAME16</th>\n",
       "      <th>SA3_CODE16</th>\n",
       "      <th>SA3_NAME16</th>\n",
       "      <th>SA4_CODE16</th>\n",
       "      <th>SA4_NAME16</th>\n",
       "      <th>GCC_CODE16</th>\n",
       "      <th>GCC_NAME16</th>\n",
       "      <th>STE_CODE16</th>\n",
       "      <th>STE_NAME16</th>\n",
       "      <th>AREASQKM16</th>\n",
       "      <th>geometry</th>\n",
       "    </tr>\n",
       "  </thead>\n",
       "  <tbody>\n",
       "    <tr>\n",
       "      <th>1599</th>\n",
       "      <td>20015400000</td>\n",
       "      <td>Residential</td>\n",
       "      <td>20901119918</td>\n",
       "      <td>2119918</td>\n",
       "      <td>209011199</td>\n",
       "      <td>21199</td>\n",
       "      <td>Heidelberg West</td>\n",
       "      <td>20901</td>\n",
       "      <td>Banyule</td>\n",
       "      <td>209</td>\n",
       "      <td>Melbourne - North East</td>\n",
       "      <td>2GMEL</td>\n",
       "      <td>Greater Melbourne</td>\n",
       "      <td>2</td>\n",
       "      <td>Victoria</td>\n",
       "      <td>0.0125</td>\n",
       "      <td>POLYGON ((145.05211 -37.75718, 145.05267 -37.7...</td>\n",
       "    </tr>\n",
       "    <tr>\n",
       "      <th>1600</th>\n",
       "      <td>20015410000</td>\n",
       "      <td>Residential</td>\n",
       "      <td>20901120346</td>\n",
       "      <td>2120346</td>\n",
       "      <td>209011203</td>\n",
       "      <td>21203</td>\n",
       "      <td>Viewbank - Yallambie</td>\n",
       "      <td>20901</td>\n",
       "      <td>Banyule</td>\n",
       "      <td>209</td>\n",
       "      <td>Melbourne - North East</td>\n",
       "      <td>2GMEL</td>\n",
       "      <td>Greater Melbourne</td>\n",
       "      <td>2</td>\n",
       "      <td>Victoria</td>\n",
       "      <td>0.0271</td>\n",
       "      <td>POLYGON ((145.09657 -37.73832, 145.09611 -37.7...</td>\n",
       "    </tr>\n",
       "    <tr>\n",
       "      <th>1601</th>\n",
       "      <td>20015420000</td>\n",
       "      <td>Residential</td>\n",
       "      <td>20901120316</td>\n",
       "      <td>2120316</td>\n",
       "      <td>209011203</td>\n",
       "      <td>21203</td>\n",
       "      <td>Viewbank - Yallambie</td>\n",
       "      <td>20901</td>\n",
       "      <td>Banyule</td>\n",
       "      <td>209</td>\n",
       "      <td>Melbourne - North East</td>\n",
       "      <td>2GMEL</td>\n",
       "      <td>Greater Melbourne</td>\n",
       "      <td>2</td>\n",
       "      <td>Victoria</td>\n",
       "      <td>0.0443</td>\n",
       "      <td>POLYGON ((145.09626 -37.73346, 145.09597 -37.7...</td>\n",
       "    </tr>\n",
       "    <tr>\n",
       "      <th>1602</th>\n",
       "      <td>20015430000</td>\n",
       "      <td>Residential</td>\n",
       "      <td>20901120318</td>\n",
       "      <td>2120318</td>\n",
       "      <td>209011203</td>\n",
       "      <td>21203</td>\n",
       "      <td>Viewbank - Yallambie</td>\n",
       "      <td>20901</td>\n",
       "      <td>Banyule</td>\n",
       "      <td>209</td>\n",
       "      <td>Melbourne - North East</td>\n",
       "      <td>2GMEL</td>\n",
       "      <td>Greater Melbourne</td>\n",
       "      <td>2</td>\n",
       "      <td>Victoria</td>\n",
       "      <td>0.0456</td>\n",
       "      <td>POLYGON ((145.10105 -37.73166, 145.09913 -37.7...</td>\n",
       "    </tr>\n",
       "    <tr>\n",
       "      <th>1603</th>\n",
       "      <td>20015440000</td>\n",
       "      <td>Residential</td>\n",
       "      <td>20901120012</td>\n",
       "      <td>2120012</td>\n",
       "      <td>209011200</td>\n",
       "      <td>21200</td>\n",
       "      <td>Ivanhoe</td>\n",
       "      <td>20901</td>\n",
       "      <td>Banyule</td>\n",
       "      <td>209</td>\n",
       "      <td>Melbourne - North East</td>\n",
       "      <td>2GMEL</td>\n",
       "      <td>Greater Melbourne</td>\n",
       "      <td>2</td>\n",
       "      <td>Victoria</td>\n",
       "      <td>0.0245</td>\n",
       "      <td>POLYGON ((145.03313 -37.76103, 145.03163 -37.7...</td>\n",
       "    </tr>\n",
       "  </tbody>\n",
       "</table>\n",
       "</div>"
      ],
      "text/plain": [
       "        MB_CODE16     MB_CAT16   SA1_MAIN16 SA1_7DIG16 SA2_MAIN16 SA2_5DIG16  \\\n",
       "1599  20015400000  Residential  20901119918    2119918  209011199      21199   \n",
       "1600  20015410000  Residential  20901120346    2120346  209011203      21203   \n",
       "1601  20015420000  Residential  20901120316    2120316  209011203      21203   \n",
       "1602  20015430000  Residential  20901120318    2120318  209011203      21203   \n",
       "1603  20015440000  Residential  20901120012    2120012  209011200      21200   \n",
       "\n",
       "                SA2_NAME16 SA3_CODE16 SA3_NAME16 SA4_CODE16  \\\n",
       "1599       Heidelberg West      20901    Banyule        209   \n",
       "1600  Viewbank - Yallambie      20901    Banyule        209   \n",
       "1601  Viewbank - Yallambie      20901    Banyule        209   \n",
       "1602  Viewbank - Yallambie      20901    Banyule        209   \n",
       "1603               Ivanhoe      20901    Banyule        209   \n",
       "\n",
       "                  SA4_NAME16 GCC_CODE16         GCC_NAME16 STE_CODE16  \\\n",
       "1599  Melbourne - North East      2GMEL  Greater Melbourne          2   \n",
       "1600  Melbourne - North East      2GMEL  Greater Melbourne          2   \n",
       "1601  Melbourne - North East      2GMEL  Greater Melbourne          2   \n",
       "1602  Melbourne - North East      2GMEL  Greater Melbourne          2   \n",
       "1603  Melbourne - North East      2GMEL  Greater Melbourne          2   \n",
       "\n",
       "     STE_NAME16  AREASQKM16                                           geometry  \n",
       "1599   Victoria      0.0125  POLYGON ((145.05211 -37.75718, 145.05267 -37.7...  \n",
       "1600   Victoria      0.0271  POLYGON ((145.09657 -37.73832, 145.09611 -37.7...  \n",
       "1601   Victoria      0.0443  POLYGON ((145.09626 -37.73346, 145.09597 -37.7...  \n",
       "1602   Victoria      0.0456  POLYGON ((145.10105 -37.73166, 145.09913 -37.7...  \n",
       "1603   Victoria      0.0245  POLYGON ((145.03313 -37.76103, 145.03163 -37.7...  "
      ]
     },
     "execution_count": 13,
     "metadata": {},
     "output_type": "execute_result"
    }
   ],
   "source": [
    "gmel.head()"
   ]
  },
  {
   "cell_type": "code",
   "execution_count": 14,
   "id": "parallel-valley",
   "metadata": {},
   "outputs": [
    {
     "data": {
      "text/html": [
       "<div>\n",
       "<style scoped>\n",
       "    .dataframe tbody tr th:only-of-type {\n",
       "        vertical-align: middle;\n",
       "    }\n",
       "\n",
       "    .dataframe tbody tr th {\n",
       "        vertical-align: top;\n",
       "    }\n",
       "\n",
       "    .dataframe thead th {\n",
       "        text-align: right;\n",
       "    }\n",
       "</style>\n",
       "<table border=\"1\" class=\"dataframe\">\n",
       "  <thead>\n",
       "    <tr style=\"text-align: right;\">\n",
       "      <th></th>\n",
       "      <th>SA1_MAIN16</th>\n",
       "      <th>SA2_NAME16</th>\n",
       "      <th>SA3_NAME16</th>\n",
       "      <th>SA4_NAME16</th>\n",
       "      <th>GCC_NAME16</th>\n",
       "    </tr>\n",
       "  </thead>\n",
       "  <tbody>\n",
       "    <tr>\n",
       "      <th>count</th>\n",
       "      <td>56371</td>\n",
       "      <td>56371</td>\n",
       "      <td>56371</td>\n",
       "      <td>56371</td>\n",
       "      <td>56371</td>\n",
       "    </tr>\n",
       "    <tr>\n",
       "      <th>unique</th>\n",
       "      <td>10289</td>\n",
       "      <td>309</td>\n",
       "      <td>40</td>\n",
       "      <td>9</td>\n",
       "      <td>1</td>\n",
       "    </tr>\n",
       "    <tr>\n",
       "      <th>top</th>\n",
       "      <td>21204131114</td>\n",
       "      <td>Point Nepean</td>\n",
       "      <td>Mornington Peninsula</td>\n",
       "      <td>Melbourne - South East</td>\n",
       "      <td>Greater Melbourne</td>\n",
       "    </tr>\n",
       "    <tr>\n",
       "      <th>freq</th>\n",
       "      <td>86</td>\n",
       "      <td>747</td>\n",
       "      <td>3248</td>\n",
       "      <td>8535</td>\n",
       "      <td>56371</td>\n",
       "    </tr>\n",
       "  </tbody>\n",
       "</table>\n",
       "</div>"
      ],
      "text/plain": [
       "         SA1_MAIN16    SA2_NAME16            SA3_NAME16  \\\n",
       "count         56371         56371                 56371   \n",
       "unique        10289           309                    40   \n",
       "top     21204131114  Point Nepean  Mornington Peninsula   \n",
       "freq             86           747                  3248   \n",
       "\n",
       "                    SA4_NAME16         GCC_NAME16  \n",
       "count                    56371              56371  \n",
       "unique                       9                  1  \n",
       "top     Melbourne - South East  Greater Melbourne  \n",
       "freq                      8535              56371  "
      ]
     },
     "execution_count": 14,
     "metadata": {},
     "output_type": "execute_result"
    }
   ],
   "source": [
    "gmel[['SA1_MAIN16','SA2_NAME16','SA3_NAME16','SA4_NAME16','GCC_NAME16']].describe()"
   ]
  },
  {
   "cell_type": "code",
   "execution_count": 15,
   "id": "hungry-lancaster",
   "metadata": {},
   "outputs": [
    {
     "name": "stdout",
     "output_type": "stream",
     "text": [
      "User Guide: https://docs.kepler.gl/docs/keplergl-jupyter\n"
     ]
    },
    {
     "data": {
      "application/vnd.jupyter.widget-view+json": {
       "model_id": "399f1d47693d45c8961481f9fcfb5af3",
       "version_major": 2,
       "version_minor": 0
      },
      "text/plain": [
       "KeplerGl(height=800)"
      ]
     },
     "metadata": {},
     "output_type": "display_data"
    }
   ],
   "source": [
    "# Plot into map\n",
    "mmap = kl.KeplerGl(height=800)\n",
    "mmap"
   ]
  },
  {
   "cell_type": "code",
   "execution_count": 16,
   "id": "incorporated-regular",
   "metadata": {},
   "outputs": [],
   "source": [
    "mmap.add_data(gmel)"
   ]
  },
  {
   "cell_type": "code",
   "execution_count": null,
   "id": "faced-employment",
   "metadata": {},
   "outputs": [],
   "source": []
  },
  {
   "cell_type": "markdown",
   "id": "quality-client",
   "metadata": {},
   "source": [
    "### Local Government Areas"
   ]
  },
  {
   "cell_type": "code",
   "execution_count": 17,
   "id": "extra-astronomy",
   "metadata": {},
   "outputs": [
    {
     "data": {
      "text/plain": [
       "(562, 6)"
      ]
     },
     "execution_count": 17,
     "metadata": {},
     "output_type": "execute_result"
    }
   ],
   "source": [
    "lga = gpd.read_file(\"zip://../data/lga_2020_aust_shp.zip\", low_memory=False)\n",
    "lga.shape"
   ]
  },
  {
   "cell_type": "code",
   "execution_count": 18,
   "id": "egyptian-violence",
   "metadata": {},
   "outputs": [],
   "source": [
    "lga = lga.dropna()"
   ]
  },
  {
   "cell_type": "code",
   "execution_count": 19,
   "id": "allied-custom",
   "metadata": {},
   "outputs": [
    {
     "data": {
      "text/html": [
       "<div>\n",
       "<style scoped>\n",
       "    .dataframe tbody tr th:only-of-type {\n",
       "        vertical-align: middle;\n",
       "    }\n",
       "\n",
       "    .dataframe tbody tr th {\n",
       "        vertical-align: top;\n",
       "    }\n",
       "\n",
       "    .dataframe thead th {\n",
       "        text-align: right;\n",
       "    }\n",
       "</style>\n",
       "<table border=\"1\" class=\"dataframe\">\n",
       "  <thead>\n",
       "    <tr style=\"text-align: right;\">\n",
       "      <th></th>\n",
       "      <th>LGA_CODE20</th>\n",
       "      <th>LGA_NAME20</th>\n",
       "      <th>STE_CODE16</th>\n",
       "      <th>STE_NAME16</th>\n",
       "      <th>AREASQKM20</th>\n",
       "      <th>geometry</th>\n",
       "    </tr>\n",
       "  </thead>\n",
       "  <tbody>\n",
       "    <tr>\n",
       "      <th>0</th>\n",
       "      <td>10050</td>\n",
       "      <td>Albury (C)</td>\n",
       "      <td>1</td>\n",
       "      <td>New South Wales</td>\n",
       "      <td>305.9459</td>\n",
       "      <td>POLYGON ((146.82130 -36.04997, 146.82138 -36.0...</td>\n",
       "    </tr>\n",
       "    <tr>\n",
       "      <th>1</th>\n",
       "      <td>10180</td>\n",
       "      <td>Armidale Regional (A)</td>\n",
       "      <td>1</td>\n",
       "      <td>New South Wales</td>\n",
       "      <td>7809.4405</td>\n",
       "      <td>POLYGON ((151.32425 -30.26923, 151.32419 -30.2...</td>\n",
       "    </tr>\n",
       "    <tr>\n",
       "      <th>2</th>\n",
       "      <td>10250</td>\n",
       "      <td>Ballina (A)</td>\n",
       "      <td>1</td>\n",
       "      <td>New South Wales</td>\n",
       "      <td>484.9389</td>\n",
       "      <td>MULTIPOLYGON (((153.57094 -28.87390, 153.57097...</td>\n",
       "    </tr>\n",
       "    <tr>\n",
       "      <th>3</th>\n",
       "      <td>10300</td>\n",
       "      <td>Balranald (A)</td>\n",
       "      <td>1</td>\n",
       "      <td>New South Wales</td>\n",
       "      <td>21690.6753</td>\n",
       "      <td>POLYGON ((143.00432 -33.78165, 143.01538 -33.7...</td>\n",
       "    </tr>\n",
       "    <tr>\n",
       "      <th>4</th>\n",
       "      <td>10470</td>\n",
       "      <td>Bathurst Regional (A)</td>\n",
       "      <td>1</td>\n",
       "      <td>New South Wales</td>\n",
       "      <td>3817.8646</td>\n",
       "      <td>POLYGON ((149.90753 -33.39968, 149.90717 -33.4...</td>\n",
       "    </tr>\n",
       "  </tbody>\n",
       "</table>\n",
       "</div>"
      ],
      "text/plain": [
       "  LGA_CODE20             LGA_NAME20 STE_CODE16       STE_NAME16  AREASQKM20  \\\n",
       "0      10050             Albury (C)          1  New South Wales    305.9459   \n",
       "1      10180  Armidale Regional (A)          1  New South Wales   7809.4405   \n",
       "2      10250            Ballina (A)          1  New South Wales    484.9389   \n",
       "3      10300          Balranald (A)          1  New South Wales  21690.6753   \n",
       "4      10470  Bathurst Regional (A)          1  New South Wales   3817.8646   \n",
       "\n",
       "                                            geometry  \n",
       "0  POLYGON ((146.82130 -36.04997, 146.82138 -36.0...  \n",
       "1  POLYGON ((151.32425 -30.26923, 151.32419 -30.2...  \n",
       "2  MULTIPOLYGON (((153.57094 -28.87390, 153.57097...  \n",
       "3  POLYGON ((143.00432 -33.78165, 143.01538 -33.7...  \n",
       "4  POLYGON ((149.90753 -33.39968, 149.90717 -33.4...  "
      ]
     },
     "execution_count": 19,
     "metadata": {},
     "output_type": "execute_result"
    }
   ],
   "source": [
    "lga.head()"
   ]
  },
  {
   "cell_type": "code",
   "execution_count": 20,
   "id": "binding-valentine",
   "metadata": {},
   "outputs": [
    {
     "data": {
      "text/plain": [
       "Western Australia               137\n",
       "New South Wales                 129\n",
       "Victoria                         80\n",
       "Queensland                       78\n",
       "South Australia                  71\n",
       "Tasmania                         29\n",
       "Northern Territory               18\n",
       "Other Territories                 1\n",
       "Australian Capital Territory      1\n",
       "Name: STE_NAME16, dtype: int64"
      ]
     },
     "execution_count": 20,
     "metadata": {},
     "output_type": "execute_result"
    }
   ],
   "source": [
    "lga.STE_NAME16.value_counts()"
   ]
  },
  {
   "cell_type": "code",
   "execution_count": 21,
   "id": "grateful-treaty",
   "metadata": {},
   "outputs": [],
   "source": [
    "vic_lga = lga[lga.STE_NAME16.isin(['Victoria'])]"
   ]
  },
  {
   "cell_type": "code",
   "execution_count": 22,
   "id": "respiratory-merchant",
   "metadata": {},
   "outputs": [
    {
     "data": {
      "text/html": [
       "<div>\n",
       "<style scoped>\n",
       "    .dataframe tbody tr th:only-of-type {\n",
       "        vertical-align: middle;\n",
       "    }\n",
       "\n",
       "    .dataframe tbody tr th {\n",
       "        vertical-align: top;\n",
       "    }\n",
       "\n",
       "    .dataframe thead th {\n",
       "        text-align: right;\n",
       "    }\n",
       "</style>\n",
       "<table border=\"1\" class=\"dataframe\">\n",
       "  <thead>\n",
       "    <tr style=\"text-align: right;\">\n",
       "      <th></th>\n",
       "      <th>LGA_CODE20</th>\n",
       "      <th>LGA_NAME20</th>\n",
       "      <th>STE_CODE16</th>\n",
       "      <th>STE_NAME16</th>\n",
       "      <th>AREASQKM20</th>\n",
       "      <th>geometry</th>\n",
       "    </tr>\n",
       "  </thead>\n",
       "  <tbody>\n",
       "    <tr>\n",
       "      <th>131</th>\n",
       "      <td>20110</td>\n",
       "      <td>Alpine (S)</td>\n",
       "      <td>2</td>\n",
       "      <td>Victoria</td>\n",
       "      <td>4788.1568</td>\n",
       "      <td>POLYGON ((146.67057 -36.56828, 146.67056 -36.5...</td>\n",
       "    </tr>\n",
       "    <tr>\n",
       "      <th>132</th>\n",
       "      <td>20260</td>\n",
       "      <td>Ararat (RC)</td>\n",
       "      <td>2</td>\n",
       "      <td>Victoria</td>\n",
       "      <td>4211.1171</td>\n",
       "      <td>POLYGON ((143.18569 -37.18385, 143.18598 -37.1...</td>\n",
       "    </tr>\n",
       "    <tr>\n",
       "      <th>133</th>\n",
       "      <td>20570</td>\n",
       "      <td>Ballarat (C)</td>\n",
       "      <td>2</td>\n",
       "      <td>Victoria</td>\n",
       "      <td>739.0321</td>\n",
       "      <td>POLYGON ((143.85331 -37.68123, 143.85320 -37.6...</td>\n",
       "    </tr>\n",
       "    <tr>\n",
       "      <th>134</th>\n",
       "      <td>20660</td>\n",
       "      <td>Banyule (C)</td>\n",
       "      <td>2</td>\n",
       "      <td>Victoria</td>\n",
       "      <td>62.5402</td>\n",
       "      <td>POLYGON ((145.08875 -37.69136, 145.08925 -37.6...</td>\n",
       "    </tr>\n",
       "    <tr>\n",
       "      <th>135</th>\n",
       "      <td>20740</td>\n",
       "      <td>Bass Coast (S)</td>\n",
       "      <td>2</td>\n",
       "      <td>Victoria</td>\n",
       "      <td>865.8095</td>\n",
       "      <td>MULTIPOLYGON (((145.11016 -38.51961, 145.10991...</td>\n",
       "    </tr>\n",
       "  </tbody>\n",
       "</table>\n",
       "</div>"
      ],
      "text/plain": [
       "    LGA_CODE20      LGA_NAME20 STE_CODE16 STE_NAME16  AREASQKM20  \\\n",
       "131      20110      Alpine (S)          2   Victoria   4788.1568   \n",
       "132      20260     Ararat (RC)          2   Victoria   4211.1171   \n",
       "133      20570    Ballarat (C)          2   Victoria    739.0321   \n",
       "134      20660     Banyule (C)          2   Victoria     62.5402   \n",
       "135      20740  Bass Coast (S)          2   Victoria    865.8095   \n",
       "\n",
       "                                              geometry  \n",
       "131  POLYGON ((146.67057 -36.56828, 146.67056 -36.5...  \n",
       "132  POLYGON ((143.18569 -37.18385, 143.18598 -37.1...  \n",
       "133  POLYGON ((143.85331 -37.68123, 143.85320 -37.6...  \n",
       "134  POLYGON ((145.08875 -37.69136, 145.08925 -37.6...  \n",
       "135  MULTIPOLYGON (((145.11016 -38.51961, 145.10991...  "
      ]
     },
     "execution_count": 22,
     "metadata": {},
     "output_type": "execute_result"
    }
   ],
   "source": [
    "vic_lga.head()"
   ]
  },
  {
   "cell_type": "code",
   "execution_count": 23,
   "id": "stylish-ancient",
   "metadata": {},
   "outputs": [
    {
     "name": "stdout",
     "output_type": "stream",
     "text": [
      "User Guide: https://docs.kepler.gl/docs/keplergl-jupyter\n"
     ]
    },
    {
     "data": {
      "application/vnd.jupyter.widget-view+json": {
       "model_id": "4a9fb525950642e78ec90a996ad7214b",
       "version_major": 2,
       "version_minor": 0
      },
      "text/plain": [
       "KeplerGl(height=800)"
      ]
     },
     "metadata": {},
     "output_type": "display_data"
    }
   ],
   "source": [
    "lga_map = kl.KeplerGl(height=800)\n",
    "lga_map"
   ]
  },
  {
   "cell_type": "code",
   "execution_count": 24,
   "id": "overall-device",
   "metadata": {},
   "outputs": [],
   "source": [
    "lga_map.add_data(vic_lga)"
   ]
  },
  {
   "cell_type": "code",
   "execution_count": null,
   "id": "least-fabric",
   "metadata": {},
   "outputs": [],
   "source": []
  },
  {
   "cell_type": "markdown",
   "id": "earlier-silly",
   "metadata": {},
   "source": [
    "### Activities"
   ]
  },
  {
   "cell_type": "code",
   "execution_count": 25,
   "id": "successful-photographer",
   "metadata": {},
   "outputs": [
    {
     "data": {
      "text/plain": [
       "(112266, 19)"
      ]
     },
     "execution_count": 25,
     "metadata": {},
     "output_type": "execute_result"
    }
   ],
   "source": [
    "acts = gpd.read_file(\"../data/activities.geojson\")\n",
    "acts.shape"
   ]
  },
  {
   "cell_type": "code",
   "execution_count": 26,
   "id": "documentary-shield",
   "metadata": {},
   "outputs": [
    {
     "name": "stdout",
     "output_type": "stream",
     "text": [
      "User Guide: https://docs.kepler.gl/docs/keplergl-jupyter\n"
     ]
    },
    {
     "data": {
      "application/vnd.jupyter.widget-view+json": {
       "model_id": "dae4c6c07ecd4545848411915d028d46",
       "version_major": 2,
       "version_minor": 0
      },
      "text/plain": [
       "KeplerGl(height=800)"
      ]
     },
     "metadata": {},
     "output_type": "display_data"
    }
   ],
   "source": [
    "act_map = kl.KeplerGl(height=800)\n",
    "act_map"
   ]
  },
  {
   "cell_type": "code",
   "execution_count": 27,
   "id": "concerned-anime",
   "metadata": {},
   "outputs": [],
   "source": [
    "act_map.add_data(acts)"
   ]
  },
  {
   "cell_type": "code",
   "execution_count": null,
   "id": "tribal-picnic",
   "metadata": {},
   "outputs": [],
   "source": [
    "act_map.save_to_html(file_name='act_map_2.html')"
   ]
  },
  {
   "cell_type": "code",
   "execution_count": null,
   "id": "senior-material",
   "metadata": {},
   "outputs": [],
   "source": [
    "config = {\n",
    "  \"version\": \"v1\",\n",
    "  \"config\": {\n",
    "    \"visState\": {\n",
    "      \"filters\": [\n",
    "        {\n",
    "          \"dataId\": [\n",
    "            \"unnamed\"\n",
    "          ],\n",
    "          \"id\": \"g1fum5ao\",\n",
    "          \"name\": [\n",
    "            \"datetime\"\n",
    "          ],\n",
    "          \"type\": \"timeRange\",\n",
    "          \"value\": [\n",
    "            1616029341400,\n",
    "            1616035686400\n",
    "          ],\n",
    "          \"enlarged\": True,\n",
    "          \"plotType\": \"histogram\",\n",
    "          \"animationWindow\": \"free\",\n",
    "          \"yAxis\": None\n",
    "        }\n",
    "      ],\n",
    "      \"layers\": [\n",
    "        {\n",
    "          \"id\": \"sueie4n\",\n",
    "          \"type\": \"hexagon\",\n",
    "          \"config\": {\n",
    "            \"dataId\": \"unnamed\",\n",
    "            \"label\": \"unnamed\",\n",
    "            \"color\": [\n",
    "              34,\n",
    "              63,\n",
    "              154\n",
    "            ],\n",
    "            \"columns\": {\n",
    "              \"lat\": \"lat\",\n",
    "              \"lng\": \"lon\"\n",
    "            },\n",
    "            \"isVisible\": True,\n",
    "            \"visConfig\": {\n",
    "              \"opacity\": 0.8,\n",
    "              \"worldUnitSize\": 1,\n",
    "              \"resolution\": 8,\n",
    "              \"colorRange\": {\n",
    "                \"name\": \"Uber Viz Qualitative 1.2\",\n",
    "                \"type\": \"qualitative\",\n",
    "                \"category\": \"Uber\",\n",
    "                \"colors\": [\n",
    "                  \"#12939A\",\n",
    "                  \"#DDB27C\",\n",
    "                  \"#88572C\",\n",
    "                  \"#FF991F\",\n",
    "                  \"#F15C17\",\n",
    "                  \"#223F9A\"\n",
    "                ]\n",
    "              },\n",
    "              \"coverage\": 1,\n",
    "              \"sizeRange\": [\n",
    "                0,\n",
    "                500\n",
    "              ],\n",
    "              \"percentile\": [\n",
    "                0,\n",
    "                100\n",
    "              ],\n",
    "              \"elevationPercentile\": [\n",
    "                0,\n",
    "                100\n",
    "              ],\n",
    "              \"elevationScale\": 36.5,\n",
    "              \"colorAggregation\": \"mode\",\n",
    "              \"sizeAggregation\": \"average\",\n",
    "              \"enable3d\": True\n",
    "            },\n",
    "            \"hidden\": False,\n",
    "            \"textLabel\": [\n",
    "              {\n",
    "                \"field\": None,\n",
    "                \"color\": [\n",
    "                  255,\n",
    "                  255,\n",
    "                  255\n",
    "                ],\n",
    "                \"size\": 18,\n",
    "                \"offset\": [\n",
    "                  0,\n",
    "                  0\n",
    "                ],\n",
    "                \"anchor\": \"start\",\n",
    "                \"alignment\": \"center\"\n",
    "              }\n",
    "            ]\n",
    "          },\n",
    "          \"visualChannels\": {\n",
    "            \"colorField\": {\n",
    "              \"name\": \"ActType\",\n",
    "              \"type\": \"string\"\n",
    "            },\n",
    "            \"colorScale\": \"ordinal\",\n",
    "            \"sizeField\": {\n",
    "              \"name\": \"ActDuration\",\n",
    "              \"type\": \"integer\"\n",
    "            },\n",
    "            \"sizeScale\": \"linear\"\n",
    "          }\n",
    "        }\n",
    "      ],\n",
    "      \"interactionConfig\": {\n",
    "        \"tooltip\": {\n",
    "          \"fieldsToShow\": {\n",
    "            \"unnamed\": [\n",
    "              {\n",
    "                \"name\": \"TRIPID\",\n",
    "                \"format\": None\n",
    "              },\n",
    "              {\n",
    "                \"name\": \"PERSID\",\n",
    "                \"format\": None\n",
    "              },\n",
    "              {\n",
    "                \"name\": \"HHID\",\n",
    "                \"format\": None\n",
    "              },\n",
    "              {\n",
    "                \"name\": \"TRIPNO\",\n",
    "                \"format\": None\n",
    "              },\n",
    "              {\n",
    "                \"name\": \"ActLocation\",\n",
    "                \"format\": None\n",
    "              }\n",
    "            ]\n",
    "          },\n",
    "          \"compareMode\": False,\n",
    "          \"compareType\": \"absolute\",\n",
    "          \"enabled\": True\n",
    "        },\n",
    "        \"brush\": {\n",
    "          \"size\": 0.5,\n",
    "          \"enabled\": False\n",
    "        },\n",
    "        \"geocoder\": {\n",
    "          \"enabled\": False\n",
    "        },\n",
    "        \"coordinate\": {\n",
    "          \"enabled\": False\n",
    "        }\n",
    "      },\n",
    "      \"layerBlending\": \"normal\",\n",
    "      \"splitMaps\": [],\n",
    "      \"animationConfig\": {\n",
    "        \"currentTime\": None,\n",
    "        \"speed\": 1\n",
    "      }\n",
    "    },\n",
    "    \"mapState\": {\n",
    "      \"bearing\": 24,\n",
    "      \"dragRotate\": True,\n",
    "      \"latitude\": -37.84094484053064,\n",
    "      \"longitude\": 144.75401686995386,\n",
    "      \"pitch\": 50,\n",
    "      \"zoom\": 7.667760421641584,\n",
    "      \"isSplit\": False\n",
    "    },\n",
    "    \"mapStyle\": {\n",
    "      \"styleType\": \"dark\",\n",
    "      \"topLayerGroups\": {},\n",
    "      \"visibleLayerGroups\": {\n",
    "        \"label\": True,\n",
    "        \"road\": True,\n",
    "        \"border\": False,\n",
    "        \"building\": True,\n",
    "        \"water\": True,\n",
    "        \"land\": True,\n",
    "        \"3d building\": False\n",
    "      },\n",
    "      \"threeDBuildingColor\": [\n",
    "        9.665468314072013,\n",
    "        17.18305478057247,\n",
    "        31.1442867897876\n",
    "      ],\n",
    "      \"mapStyles\": {}\n",
    "    }\n",
    "  }\n",
    "}"
   ]
  },
  {
   "cell_type": "code",
   "execution_count": null,
   "id": "editorial-champion",
   "metadata": {},
   "outputs": [],
   "source": [
    "act_map.add_config()"
   ]
  }
 ],
 "metadata": {
  "kernelspec": {
   "display_name": "Python 3",
   "language": "python",
   "name": "python3"
  },
  "language_info": {
   "codemirror_mode": {
    "name": "ipython",
    "version": 3
   },
   "file_extension": ".py",
   "mimetype": "text/x-python",
   "name": "python",
   "nbconvert_exporter": "python",
   "pygments_lexer": "ipython3",
   "version": "3.7.10"
  }
 },
 "nbformat": 4,
 "nbformat_minor": 5
}
