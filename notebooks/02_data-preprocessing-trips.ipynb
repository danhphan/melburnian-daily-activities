{
 "cells": [
  {
   "cell_type": "markdown",
   "metadata": {},
   "source": [
    "# Conver Trips to Activities"
   ]
  },
  {
   "cell_type": "markdown",
   "metadata": {},
   "source": [
    "#### ASSUMPTIONS ####\n",
    "1. Each person starts to travel from home, and return to home at the end of the day.\n",
    "2. For each trip: \n",
    "\n",
    "    1. Current activity is the original (purpose) activity, along with its end time (trip start-time) and (original) location\n",
    "    2. Next activity is the destination (purpose activity, along with its start time (trip arrival time), end time (departure time), and location\n",
    "3. Not consider Drop off - Pickup as an activity"
   ]
  },
  {
   "cell_type": "markdown",
   "metadata": {},
   "source": [
    "### Get data and explore"
   ]
  },
  {
   "cell_type": "code",
   "execution_count": 42,
   "metadata": {},
   "outputs": [],
   "source": [
    "import numpy as np\n",
    "import pandas as pd\n",
    "import zipfile\n",
    "pd.set_option('display.max_rows', 500)\n",
    "pd.set_option('display.max_columns', 100)\n",
    "pd.set_option('display.width', 1000)"
   ]
  },
  {
   "cell_type": "code",
   "execution_count": 43,
   "metadata": {},
   "outputs": [],
   "source": [
    "z = zipfile.ZipFile(\"../data/vista-12-18.zip\")\n",
    "trips = pd.read_csv(z.open(\"T_VISTA1218_V1.csv\"), low_memory=False)"
   ]
  },
  {
   "cell_type": "code",
   "execution_count": 44,
   "metadata": {},
   "outputs": [
    {
     "data": {
      "text/plain": [
       "((174270, 59), 21941, 49453)"
      ]
     },
     "execution_count": 44,
     "metadata": {},
     "output_type": "execute_result"
    }
   ],
   "source": [
    "trips.shape, trips.HHID.nunique(), trips.PERSID.nunique()"
   ]
  },
  {
   "cell_type": "code",
   "execution_count": 45,
   "metadata": {
    "scrolled": true
   },
   "outputs": [
    {
     "data": {
      "text/html": [
       "<div>\n",
       "<style scoped>\n",
       "    .dataframe tbody tr th:only-of-type {\n",
       "        vertical-align: middle;\n",
       "    }\n",
       "\n",
       "    .dataframe tbody tr th {\n",
       "        vertical-align: top;\n",
       "    }\n",
       "\n",
       "    .dataframe thead th {\n",
       "        text-align: right;\n",
       "    }\n",
       "</style>\n",
       "<table border=\"1\" class=\"dataframe\">\n",
       "  <thead>\n",
       "    <tr style=\"text-align: right;\">\n",
       "      <th></th>\n",
       "      <th>TRIPID</th>\n",
       "      <th>PERSID</th>\n",
       "      <th>HHID</th>\n",
       "      <th>STOPS</th>\n",
       "      <th>TRIPNO</th>\n",
       "      <th>STARTHOUR</th>\n",
       "      <th>STARTIME</th>\n",
       "      <th>ARRHOUR</th>\n",
       "      <th>ARRTIME</th>\n",
       "      <th>CUMDIST</th>\n",
       "      <th>DEPHOUR</th>\n",
       "      <th>DEPTIME</th>\n",
       "      <th>DURATION</th>\n",
       "      <th>TRAVTIME</th>\n",
       "      <th>TRIPTIME</th>\n",
       "      <th>WAITIME</th>\n",
       "      <th>ORIGLGA</th>\n",
       "      <th>ORIGPLACE1</th>\n",
       "      <th>ORIGPLACE2</th>\n",
       "      <th>ORIGPURP1</th>\n",
       "      <th>ORIGPURP2</th>\n",
       "      <th>DESTLGA</th>\n",
       "      <th>DESTPLACE1</th>\n",
       "      <th>DESTPLACE2</th>\n",
       "      <th>DESTPURP1</th>\n",
       "      <th>DESTPURP2</th>\n",
       "      <th>TRIPPURP</th>\n",
       "      <th>LINKMODE</th>\n",
       "      <th>MODE1</th>\n",
       "      <th>MODE2</th>\n",
       "      <th>MODE3</th>\n",
       "      <th>MODE4</th>\n",
       "      <th>MODE5</th>\n",
       "      <th>MODE6</th>\n",
       "      <th>MODE7</th>\n",
       "      <th>MODE8</th>\n",
       "      <th>MODE9</th>\n",
       "      <th>DIST_GRP</th>\n",
       "      <th>DIST1</th>\n",
       "      <th>DIST2</th>\n",
       "      <th>DIST3</th>\n",
       "      <th>DIST4</th>\n",
       "      <th>DIST5</th>\n",
       "      <th>DIST6</th>\n",
       "      <th>DIST7</th>\n",
       "      <th>DIST8</th>\n",
       "      <th>DIST9</th>\n",
       "      <th>Time_Grp</th>\n",
       "      <th>TIME1</th>\n",
       "      <th>TIME2</th>\n",
       "      <th>TIME3</th>\n",
       "      <th>TIME4</th>\n",
       "      <th>TIME5</th>\n",
       "      <th>TIME6</th>\n",
       "      <th>TIME7</th>\n",
       "      <th>TIME8</th>\n",
       "      <th>TIME9</th>\n",
       "      <th>WDTRIPWGT</th>\n",
       "      <th>WETRIPWGT</th>\n",
       "    </tr>\n",
       "  </thead>\n",
       "  <tbody>\n",
       "    <tr>\n",
       "      <th>0</th>\n",
       "      <td>Y12H0000101P01T01</td>\n",
       "      <td>Y12H0000101P01</td>\n",
       "      <td>Y12H0000101</td>\n",
       "      <td>1</td>\n",
       "      <td>1</td>\n",
       "      <td>8</td>\n",
       "      <td>525</td>\n",
       "      <td>9</td>\n",
       "      <td>545</td>\n",
       "      <td>7.45</td>\n",
       "      <td>17</td>\n",
       "      <td>1050.0</td>\n",
       "      <td>505.0</td>\n",
       "      <td>20</td>\n",
       "      <td>20</td>\n",
       "      <td>0</td>\n",
       "      <td>Whittlesea (C)</td>\n",
       "      <td>Accommodation</td>\n",
       "      <td>Survey Home</td>\n",
       "      <td>At Home</td>\n",
       "      <td>At or Go Home</td>\n",
       "      <td>Whittlesea (C)</td>\n",
       "      <td>Workplace</td>\n",
       "      <td>My Workplace</td>\n",
       "      <td>Work Related</td>\n",
       "      <td>Own Workplace</td>\n",
       "      <td>Work Related</td>\n",
       "      <td>Vehicle Driver</td>\n",
       "      <td>Vehicle Driver</td>\n",
       "      <td>NaN</td>\n",
       "      <td>NaN</td>\n",
       "      <td>NaN</td>\n",
       "      <td>NaN</td>\n",
       "      <td>NaN</td>\n",
       "      <td>NaN</td>\n",
       "      <td>NaN</td>\n",
       "      <td>NaN</td>\n",
       "      <td>7 - 7.9</td>\n",
       "      <td>7.45</td>\n",
       "      <td>NaN</td>\n",
       "      <td>NaN</td>\n",
       "      <td>NaN</td>\n",
       "      <td>NaN</td>\n",
       "      <td>NaN</td>\n",
       "      <td>NaN</td>\n",
       "      <td>NaN</td>\n",
       "      <td>NaN</td>\n",
       "      <td>20 - 24</td>\n",
       "      <td>20</td>\n",
       "      <td>NaN</td>\n",
       "      <td>NaN</td>\n",
       "      <td>NaN</td>\n",
       "      <td>NaN</td>\n",
       "      <td>NaN</td>\n",
       "      <td>NaN</td>\n",
       "      <td>NaN</td>\n",
       "      <td>NaN</td>\n",
       "      <td>97.79</td>\n",
       "      <td>NaN</td>\n",
       "    </tr>\n",
       "    <tr>\n",
       "      <th>1</th>\n",
       "      <td>Y12H0000101P01T02</td>\n",
       "      <td>Y12H0000101P01</td>\n",
       "      <td>Y12H0000101</td>\n",
       "      <td>1</td>\n",
       "      <td>2</td>\n",
       "      <td>17</td>\n",
       "      <td>1050</td>\n",
       "      <td>17</td>\n",
       "      <td>1075</td>\n",
       "      <td>7.45</td>\n",
       "      <td>NaN</td>\n",
       "      <td>NaN</td>\n",
       "      <td>NaN</td>\n",
       "      <td>25</td>\n",
       "      <td>25</td>\n",
       "      <td>0</td>\n",
       "      <td>Whittlesea (C)</td>\n",
       "      <td>Workplace</td>\n",
       "      <td>My Workplace</td>\n",
       "      <td>Work Related</td>\n",
       "      <td>Own Workplace</td>\n",
       "      <td>Whittlesea (C)</td>\n",
       "      <td>Accommodation</td>\n",
       "      <td>Survey Home</td>\n",
       "      <td>Go Home</td>\n",
       "      <td>At or Go Home</td>\n",
       "      <td>Work Related</td>\n",
       "      <td>Vehicle Driver</td>\n",
       "      <td>Vehicle Driver</td>\n",
       "      <td>NaN</td>\n",
       "      <td>NaN</td>\n",
       "      <td>NaN</td>\n",
       "      <td>NaN</td>\n",
       "      <td>NaN</td>\n",
       "      <td>NaN</td>\n",
       "      <td>NaN</td>\n",
       "      <td>NaN</td>\n",
       "      <td>7 - 7.9</td>\n",
       "      <td>7.45</td>\n",
       "      <td>NaN</td>\n",
       "      <td>NaN</td>\n",
       "      <td>NaN</td>\n",
       "      <td>NaN</td>\n",
       "      <td>NaN</td>\n",
       "      <td>NaN</td>\n",
       "      <td>NaN</td>\n",
       "      <td>NaN</td>\n",
       "      <td>25 - 29</td>\n",
       "      <td>25</td>\n",
       "      <td>NaN</td>\n",
       "      <td>NaN</td>\n",
       "      <td>NaN</td>\n",
       "      <td>NaN</td>\n",
       "      <td>NaN</td>\n",
       "      <td>NaN</td>\n",
       "      <td>NaN</td>\n",
       "      <td>NaN</td>\n",
       "      <td>97.79</td>\n",
       "      <td>NaN</td>\n",
       "    </tr>\n",
       "    <tr>\n",
       "      <th>2</th>\n",
       "      <td>Y12H0000101P02T01</td>\n",
       "      <td>Y12H0000101P02</td>\n",
       "      <td>Y12H0000101</td>\n",
       "      <td>1</td>\n",
       "      <td>1</td>\n",
       "      <td>8</td>\n",
       "      <td>500</td>\n",
       "      <td>8</td>\n",
       "      <td>520</td>\n",
       "      <td>3.92</td>\n",
       "      <td>9</td>\n",
       "      <td>540.0</td>\n",
       "      <td>20.0</td>\n",
       "      <td>20</td>\n",
       "      <td>20</td>\n",
       "      <td>0</td>\n",
       "      <td>Whittlesea (C)</td>\n",
       "      <td>Accommodation</td>\n",
       "      <td>Survey Home</td>\n",
       "      <td>At Home</td>\n",
       "      <td>At or Go Home</td>\n",
       "      <td>Whittlesea (C)</td>\n",
       "      <td>Place of Education</td>\n",
       "      <td>Primary School</td>\n",
       "      <td>Pick-up or Drop-off Someone</td>\n",
       "      <td>Someone picked-up or delivered</td>\n",
       "      <td>Pick-up or Drop-off Someone</td>\n",
       "      <td>Vehicle Driver</td>\n",
       "      <td>Vehicle Driver</td>\n",
       "      <td>NaN</td>\n",
       "      <td>NaN</td>\n",
       "      <td>NaN</td>\n",
       "      <td>NaN</td>\n",
       "      <td>NaN</td>\n",
       "      <td>NaN</td>\n",
       "      <td>NaN</td>\n",
       "      <td>NaN</td>\n",
       "      <td>3 - 3.9</td>\n",
       "      <td>3.92</td>\n",
       "      <td>NaN</td>\n",
       "      <td>NaN</td>\n",
       "      <td>NaN</td>\n",
       "      <td>NaN</td>\n",
       "      <td>NaN</td>\n",
       "      <td>NaN</td>\n",
       "      <td>NaN</td>\n",
       "      <td>NaN</td>\n",
       "      <td>20 - 24</td>\n",
       "      <td>20</td>\n",
       "      <td>NaN</td>\n",
       "      <td>NaN</td>\n",
       "      <td>NaN</td>\n",
       "      <td>NaN</td>\n",
       "      <td>NaN</td>\n",
       "      <td>NaN</td>\n",
       "      <td>NaN</td>\n",
       "      <td>NaN</td>\n",
       "      <td>92.98</td>\n",
       "      <td>NaN</td>\n",
       "    </tr>\n",
       "    <tr>\n",
       "      <th>3</th>\n",
       "      <td>Y12H0000101P02T02</td>\n",
       "      <td>Y12H0000101P02</td>\n",
       "      <td>Y12H0000101</td>\n",
       "      <td>1</td>\n",
       "      <td>2</td>\n",
       "      <td>9</td>\n",
       "      <td>540</td>\n",
       "      <td>9</td>\n",
       "      <td>550</td>\n",
       "      <td>2.50</td>\n",
       "      <td>10</td>\n",
       "      <td>600.0</td>\n",
       "      <td>50.0</td>\n",
       "      <td>10</td>\n",
       "      <td>10</td>\n",
       "      <td>0</td>\n",
       "      <td>Whittlesea (C)</td>\n",
       "      <td>Place of Education</td>\n",
       "      <td>Primary School</td>\n",
       "      <td>Pick-up or Drop-off Someone</td>\n",
       "      <td>Someone picked-up or delivered</td>\n",
       "      <td>Whittlesea (C)</td>\n",
       "      <td>Shops</td>\n",
       "      <td>Shopping Centre</td>\n",
       "      <td>Buy Something</td>\n",
       "      <td>Bought something</td>\n",
       "      <td>Buy Something</td>\n",
       "      <td>Vehicle Driver</td>\n",
       "      <td>Vehicle Driver</td>\n",
       "      <td>NaN</td>\n",
       "      <td>NaN</td>\n",
       "      <td>NaN</td>\n",
       "      <td>NaN</td>\n",
       "      <td>NaN</td>\n",
       "      <td>NaN</td>\n",
       "      <td>NaN</td>\n",
       "      <td>NaN</td>\n",
       "      <td>2 - 2.9</td>\n",
       "      <td>2.50</td>\n",
       "      <td>NaN</td>\n",
       "      <td>NaN</td>\n",
       "      <td>NaN</td>\n",
       "      <td>NaN</td>\n",
       "      <td>NaN</td>\n",
       "      <td>NaN</td>\n",
       "      <td>NaN</td>\n",
       "      <td>NaN</td>\n",
       "      <td>10. - 14.</td>\n",
       "      <td>10</td>\n",
       "      <td>NaN</td>\n",
       "      <td>NaN</td>\n",
       "      <td>NaN</td>\n",
       "      <td>NaN</td>\n",
       "      <td>NaN</td>\n",
       "      <td>NaN</td>\n",
       "      <td>NaN</td>\n",
       "      <td>NaN</td>\n",
       "      <td>92.98</td>\n",
       "      <td>NaN</td>\n",
       "    </tr>\n",
       "    <tr>\n",
       "      <th>4</th>\n",
       "      <td>Y12H0000101P02T03</td>\n",
       "      <td>Y12H0000101P02</td>\n",
       "      <td>Y12H0000101</td>\n",
       "      <td>1</td>\n",
       "      <td>3</td>\n",
       "      <td>10</td>\n",
       "      <td>600</td>\n",
       "      <td>10</td>\n",
       "      <td>610</td>\n",
       "      <td>2.55</td>\n",
       "      <td>14</td>\n",
       "      <td>890.0</td>\n",
       "      <td>280.0</td>\n",
       "      <td>10</td>\n",
       "      <td>10</td>\n",
       "      <td>0</td>\n",
       "      <td>Whittlesea (C)</td>\n",
       "      <td>Shops</td>\n",
       "      <td>Shopping Centre</td>\n",
       "      <td>Buy Something</td>\n",
       "      <td>Bought something</td>\n",
       "      <td>Whittlesea (C)</td>\n",
       "      <td>Accommodation</td>\n",
       "      <td>Survey Home</td>\n",
       "      <td>Go Home</td>\n",
       "      <td>At or Go Home</td>\n",
       "      <td>Buy Something</td>\n",
       "      <td>Vehicle Driver</td>\n",
       "      <td>Vehicle Driver</td>\n",
       "      <td>NaN</td>\n",
       "      <td>NaN</td>\n",
       "      <td>NaN</td>\n",
       "      <td>NaN</td>\n",
       "      <td>NaN</td>\n",
       "      <td>NaN</td>\n",
       "      <td>NaN</td>\n",
       "      <td>NaN</td>\n",
       "      <td>2 - 2.9</td>\n",
       "      <td>2.55</td>\n",
       "      <td>NaN</td>\n",
       "      <td>NaN</td>\n",
       "      <td>NaN</td>\n",
       "      <td>NaN</td>\n",
       "      <td>NaN</td>\n",
       "      <td>NaN</td>\n",
       "      <td>NaN</td>\n",
       "      <td>NaN</td>\n",
       "      <td>10. - 14.</td>\n",
       "      <td>10</td>\n",
       "      <td>NaN</td>\n",
       "      <td>NaN</td>\n",
       "      <td>NaN</td>\n",
       "      <td>NaN</td>\n",
       "      <td>NaN</td>\n",
       "      <td>NaN</td>\n",
       "      <td>NaN</td>\n",
       "      <td>NaN</td>\n",
       "      <td>92.98</td>\n",
       "      <td>NaN</td>\n",
       "    </tr>\n",
       "  </tbody>\n",
       "</table>\n",
       "</div>"
      ],
      "text/plain": [
       "              TRIPID          PERSID         HHID  STOPS  TRIPNO  STARTHOUR  STARTIME  ARRHOUR  ARRTIME  CUMDIST DEPHOUR  DEPTIME  DURATION  TRAVTIME  TRIPTIME  WAITIME         ORIGLGA          ORIGPLACE1       ORIGPLACE2                    ORIGPURP1                       ORIGPURP2         DESTLGA          DESTPLACE1       DESTPLACE2                    DESTPURP1                       DESTPURP2                     TRIPPURP        LINKMODE           MODE1 MODE2 MODE3 MODE4 MODE5 MODE6 MODE7 MODE8 MODE9 DIST_GRP  DIST1  DIST2  DIST3  DIST4  DIST5  DIST6  DIST7  DIST8  DIST9   Time_Grp  TIME1  TIME2  TIME3  TIME4  TIME5  TIME6  TIME7  TIME8  TIME9 WDTRIPWGT WETRIPWGT\n",
       "0  Y12H0000101P01T01  Y12H0000101P01  Y12H0000101      1       1          8       525        9      545     7.45      17   1050.0     505.0        20        20        0  Whittlesea (C)       Accommodation      Survey Home                      At Home                   At or Go Home  Whittlesea (C)           Workplace     My Workplace                 Work Related                   Own Workplace                 Work Related  Vehicle Driver  Vehicle Driver   NaN   NaN   NaN   NaN   NaN   NaN   NaN   NaN  7 - 7.9   7.45    NaN    NaN    NaN    NaN    NaN    NaN    NaN    NaN    20 - 24     20    NaN    NaN    NaN    NaN    NaN    NaN    NaN    NaN     97.79       NaN\n",
       "1  Y12H0000101P01T02  Y12H0000101P01  Y12H0000101      1       2         17      1050       17     1075     7.45     NaN      NaN       NaN        25        25        0  Whittlesea (C)           Workplace     My Workplace                 Work Related                   Own Workplace  Whittlesea (C)       Accommodation      Survey Home                      Go Home                   At or Go Home                 Work Related  Vehicle Driver  Vehicle Driver   NaN   NaN   NaN   NaN   NaN   NaN   NaN   NaN  7 - 7.9   7.45    NaN    NaN    NaN    NaN    NaN    NaN    NaN    NaN    25 - 29     25    NaN    NaN    NaN    NaN    NaN    NaN    NaN    NaN     97.79       NaN\n",
       "2  Y12H0000101P02T01  Y12H0000101P02  Y12H0000101      1       1          8       500        8      520     3.92       9    540.0      20.0        20        20        0  Whittlesea (C)       Accommodation      Survey Home                      At Home                   At or Go Home  Whittlesea (C)  Place of Education   Primary School  Pick-up or Drop-off Someone  Someone picked-up or delivered  Pick-up or Drop-off Someone  Vehicle Driver  Vehicle Driver   NaN   NaN   NaN   NaN   NaN   NaN   NaN   NaN  3 - 3.9   3.92    NaN    NaN    NaN    NaN    NaN    NaN    NaN    NaN    20 - 24     20    NaN    NaN    NaN    NaN    NaN    NaN    NaN    NaN     92.98       NaN\n",
       "3  Y12H0000101P02T02  Y12H0000101P02  Y12H0000101      1       2          9       540        9      550     2.50      10    600.0      50.0        10        10        0  Whittlesea (C)  Place of Education   Primary School  Pick-up or Drop-off Someone  Someone picked-up or delivered  Whittlesea (C)               Shops  Shopping Centre                Buy Something                Bought something                Buy Something  Vehicle Driver  Vehicle Driver   NaN   NaN   NaN   NaN   NaN   NaN   NaN   NaN  2 - 2.9   2.50    NaN    NaN    NaN    NaN    NaN    NaN    NaN    NaN  10. - 14.     10    NaN    NaN    NaN    NaN    NaN    NaN    NaN    NaN     92.98       NaN\n",
       "4  Y12H0000101P02T03  Y12H0000101P02  Y12H0000101      1       3         10       600       10      610     2.55      14    890.0     280.0        10        10        0  Whittlesea (C)               Shops  Shopping Centre                Buy Something                Bought something  Whittlesea (C)       Accommodation      Survey Home                      Go Home                   At or Go Home                Buy Something  Vehicle Driver  Vehicle Driver   NaN   NaN   NaN   NaN   NaN   NaN   NaN   NaN  2 - 2.9   2.55    NaN    NaN    NaN    NaN    NaN    NaN    NaN    NaN  10. - 14.     10    NaN    NaN    NaN    NaN    NaN    NaN    NaN    NaN     92.98       NaN"
      ]
     },
     "execution_count": 45,
     "metadata": {},
     "output_type": "execute_result"
    }
   ],
   "source": [
    "trips.head()"
   ]
  },
  {
   "cell_type": "code",
   "execution_count": 46,
   "metadata": {},
   "outputs": [
    {
     "data": {
      "text/plain": [
       "(2, 59)"
      ]
     },
     "execution_count": 46,
     "metadata": {},
     "output_type": "execute_result"
    }
   ],
   "source": [
    "trips[trips.CUMDIST < 0].shape"
   ]
  },
  {
   "cell_type": "code",
   "execution_count": 47,
   "metadata": {},
   "outputs": [
    {
     "data": {
      "text/plain": [
       "29"
      ]
     },
     "execution_count": 47,
     "metadata": {},
     "output_type": "execute_result"
    }
   ],
   "source": [
    "## SELECT RELATED COLUMNS\n",
    "tripid_cols = ['TRIPID','PERSID','HHID','TRIPNO']\n",
    "time_cols = ['STARTIME','ARRTIME','DEPTIME','DURATION','TRAVTIME','TRIPTIME','WAITIME']\n",
    "distance_cols = ['CUMDIST', 'DIST_GRP']\n",
    "origin_cols = ['ORIGLGA','ORIGPLACE1','ORIGPLACE2','ORIGPURP1','ORIGPURP2']\n",
    "destin_cols = ['DESTLGA','DESTPLACE1','DESTPLACE2','DESTPURP1','DESTPURP2','TRIPPURP']\n",
    "general_cols = ['STOPS','LINKMODE','MODE1', 'DIST1', 'WDTRIPWGT']\n",
    "selected_cols = tripid_cols + time_cols + distance_cols + origin_cols + destin_cols + general_cols\n",
    "len(selected_cols)"
   ]
  },
  {
   "cell_type": "code",
   "execution_count": 48,
   "metadata": {},
   "outputs": [],
   "source": [
    "trips = trips[selected_cols]"
   ]
  },
  {
   "cell_type": "code",
   "execution_count": 49,
   "metadata": {},
   "outputs": [
    {
     "data": {
      "text/plain": [
       "(174270, 29)"
      ]
     },
     "execution_count": 49,
     "metadata": {},
     "output_type": "execute_result"
    }
   ],
   "source": [
    "trips.shape"
   ]
  },
  {
   "cell_type": "code",
   "execution_count": 50,
   "metadata": {},
   "outputs": [
    {
     "data": {
      "text/html": [
       "<div>\n",
       "<style scoped>\n",
       "    .dataframe tbody tr th:only-of-type {\n",
       "        vertical-align: middle;\n",
       "    }\n",
       "\n",
       "    .dataframe tbody tr th {\n",
       "        vertical-align: top;\n",
       "    }\n",
       "\n",
       "    .dataframe thead th {\n",
       "        text-align: right;\n",
       "    }\n",
       "</style>\n",
       "<table border=\"1\" class=\"dataframe\">\n",
       "  <thead>\n",
       "    <tr style=\"text-align: right;\">\n",
       "      <th></th>\n",
       "      <th>ORIGLGA</th>\n",
       "      <th>ORIGPLACE1</th>\n",
       "      <th>ORIGPLACE2</th>\n",
       "      <th>ORIGPURP1</th>\n",
       "      <th>ORIGPURP2</th>\n",
       "    </tr>\n",
       "  </thead>\n",
       "  <tbody>\n",
       "    <tr>\n",
       "      <th>0</th>\n",
       "      <td>Whittlesea (C)</td>\n",
       "      <td>Accommodation</td>\n",
       "      <td>Survey Home</td>\n",
       "      <td>At Home</td>\n",
       "      <td>At or Go Home</td>\n",
       "    </tr>\n",
       "    <tr>\n",
       "      <th>1</th>\n",
       "      <td>Whittlesea (C)</td>\n",
       "      <td>Workplace</td>\n",
       "      <td>My Workplace</td>\n",
       "      <td>Work Related</td>\n",
       "      <td>Own Workplace</td>\n",
       "    </tr>\n",
       "    <tr>\n",
       "      <th>2</th>\n",
       "      <td>Whittlesea (C)</td>\n",
       "      <td>Accommodation</td>\n",
       "      <td>Survey Home</td>\n",
       "      <td>At Home</td>\n",
       "      <td>At or Go Home</td>\n",
       "    </tr>\n",
       "    <tr>\n",
       "      <th>3</th>\n",
       "      <td>Whittlesea (C)</td>\n",
       "      <td>Place of Education</td>\n",
       "      <td>Primary School</td>\n",
       "      <td>Pick-up or Drop-off Someone</td>\n",
       "      <td>Someone picked-up or delivered</td>\n",
       "    </tr>\n",
       "    <tr>\n",
       "      <th>4</th>\n",
       "      <td>Whittlesea (C)</td>\n",
       "      <td>Shops</td>\n",
       "      <td>Shopping Centre</td>\n",
       "      <td>Buy Something</td>\n",
       "      <td>Bought something</td>\n",
       "    </tr>\n",
       "  </tbody>\n",
       "</table>\n",
       "</div>"
      ],
      "text/plain": [
       "          ORIGLGA          ORIGPLACE1       ORIGPLACE2                    ORIGPURP1                       ORIGPURP2\n",
       "0  Whittlesea (C)       Accommodation      Survey Home                      At Home                   At or Go Home\n",
       "1  Whittlesea (C)           Workplace     My Workplace                 Work Related                   Own Workplace\n",
       "2  Whittlesea (C)       Accommodation      Survey Home                      At Home                   At or Go Home\n",
       "3  Whittlesea (C)  Place of Education   Primary School  Pick-up or Drop-off Someone  Someone picked-up or delivered\n",
       "4  Whittlesea (C)               Shops  Shopping Centre                Buy Something                Bought something"
      ]
     },
     "execution_count": 50,
     "metadata": {},
     "output_type": "execute_result"
    }
   ],
   "source": [
    "trips[origin_cols].head()"
   ]
  },
  {
   "cell_type": "code",
   "execution_count": 51,
   "metadata": {},
   "outputs": [
    {
     "data": {
      "text/html": [
       "<div>\n",
       "<style scoped>\n",
       "    .dataframe tbody tr th:only-of-type {\n",
       "        vertical-align: middle;\n",
       "    }\n",
       "\n",
       "    .dataframe tbody tr th {\n",
       "        vertical-align: top;\n",
       "    }\n",
       "\n",
       "    .dataframe thead th {\n",
       "        text-align: right;\n",
       "    }\n",
       "</style>\n",
       "<table border=\"1\" class=\"dataframe\">\n",
       "  <thead>\n",
       "    <tr style=\"text-align: right;\">\n",
       "      <th></th>\n",
       "      <th>DESTLGA</th>\n",
       "      <th>DESTPLACE1</th>\n",
       "      <th>DESTPLACE2</th>\n",
       "      <th>DESTPURP1</th>\n",
       "      <th>DESTPURP2</th>\n",
       "      <th>TRIPPURP</th>\n",
       "    </tr>\n",
       "  </thead>\n",
       "  <tbody>\n",
       "    <tr>\n",
       "      <th>0</th>\n",
       "      <td>Whittlesea (C)</td>\n",
       "      <td>Workplace</td>\n",
       "      <td>My Workplace</td>\n",
       "      <td>Work Related</td>\n",
       "      <td>Own Workplace</td>\n",
       "      <td>Work Related</td>\n",
       "    </tr>\n",
       "    <tr>\n",
       "      <th>1</th>\n",
       "      <td>Whittlesea (C)</td>\n",
       "      <td>Accommodation</td>\n",
       "      <td>Survey Home</td>\n",
       "      <td>Go Home</td>\n",
       "      <td>At or Go Home</td>\n",
       "      <td>Work Related</td>\n",
       "    </tr>\n",
       "    <tr>\n",
       "      <th>2</th>\n",
       "      <td>Whittlesea (C)</td>\n",
       "      <td>Place of Education</td>\n",
       "      <td>Primary School</td>\n",
       "      <td>Pick-up or Drop-off Someone</td>\n",
       "      <td>Someone picked-up or delivered</td>\n",
       "      <td>Pick-up or Drop-off Someone</td>\n",
       "    </tr>\n",
       "    <tr>\n",
       "      <th>3</th>\n",
       "      <td>Whittlesea (C)</td>\n",
       "      <td>Shops</td>\n",
       "      <td>Shopping Centre</td>\n",
       "      <td>Buy Something</td>\n",
       "      <td>Bought something</td>\n",
       "      <td>Buy Something</td>\n",
       "    </tr>\n",
       "    <tr>\n",
       "      <th>4</th>\n",
       "      <td>Whittlesea (C)</td>\n",
       "      <td>Accommodation</td>\n",
       "      <td>Survey Home</td>\n",
       "      <td>Go Home</td>\n",
       "      <td>At or Go Home</td>\n",
       "      <td>Buy Something</td>\n",
       "    </tr>\n",
       "  </tbody>\n",
       "</table>\n",
       "</div>"
      ],
      "text/plain": [
       "          DESTLGA          DESTPLACE1       DESTPLACE2                    DESTPURP1                       DESTPURP2                     TRIPPURP\n",
       "0  Whittlesea (C)           Workplace     My Workplace                 Work Related                   Own Workplace                 Work Related\n",
       "1  Whittlesea (C)       Accommodation      Survey Home                      Go Home                   At or Go Home                 Work Related\n",
       "2  Whittlesea (C)  Place of Education   Primary School  Pick-up or Drop-off Someone  Someone picked-up or delivered  Pick-up or Drop-off Someone\n",
       "3  Whittlesea (C)               Shops  Shopping Centre                Buy Something                Bought something                Buy Something\n",
       "4  Whittlesea (C)       Accommodation      Survey Home                      Go Home                   At or Go Home                Buy Something"
      ]
     },
     "execution_count": 51,
     "metadata": {},
     "output_type": "execute_result"
    }
   ],
   "source": [
    "trips[destin_cols].head()"
   ]
  },
  {
   "cell_type": "code",
   "execution_count": 52,
   "metadata": {},
   "outputs": [],
   "source": [
    "trips.sort_values(by=['HHID','PERSID','TRIPNO'],inplace=True)"
   ]
  },
  {
   "cell_type": "code",
   "execution_count": 53,
   "metadata": {},
   "outputs": [
    {
     "data": {
      "text/plain": [
       "count    174269.000000\n",
       "mean          9.268502\n",
       "std          65.537120\n",
       "min          -0.030000\n",
       "25%           1.250000\n",
       "50%           3.400000\n",
       "75%           9.360000\n",
       "max        9924.030000\n",
       "Name: DIST1, dtype: float64"
      ]
     },
     "execution_count": 53,
     "metadata": {},
     "output_type": "execute_result"
    }
   ],
   "source": [
    "trips.DIST1.describe()"
   ]
  },
  {
   "cell_type": "code",
   "execution_count": 54,
   "metadata": {},
   "outputs": [
    {
     "data": {
      "text/plain": [
       "DESTPURP1\n",
       "Accompany Someone               AxesSubplot(0.125,0.125;0.775x0.755)\n",
       "Buy Something                   AxesSubplot(0.125,0.125;0.775x0.755)\n",
       "Change Mode                     AxesSubplot(0.125,0.125;0.775x0.755)\n",
       "Education                       AxesSubplot(0.125,0.125;0.775x0.755)\n",
       "Go Home                         AxesSubplot(0.125,0.125;0.775x0.755)\n",
       "Not Stated                      AxesSubplot(0.125,0.125;0.775x0.755)\n",
       "Other Purpose                   AxesSubplot(0.125,0.125;0.775x0.755)\n",
       "Personal Business               AxesSubplot(0.125,0.125;0.775x0.755)\n",
       "Pick-up or Deliver Something    AxesSubplot(0.125,0.125;0.775x0.755)\n",
       "Pick-up or Drop-off Someone     AxesSubplot(0.125,0.125;0.775x0.755)\n",
       "Recreational                    AxesSubplot(0.125,0.125;0.775x0.755)\n",
       "Social                          AxesSubplot(0.125,0.125;0.775x0.755)\n",
       "Work Related                    AxesSubplot(0.125,0.125;0.775x0.755)\n",
       "Name: DIST1, dtype: object"
      ]
     },
     "execution_count": 54,
     "metadata": {},
     "output_type": "execute_result"
    },
    {
     "data": {
      "image/png": "[encoded data removed]",
      "text/plain": [
       "<Figure size 432x288 with 1 Axes>"
      ]
     },
     "metadata": {
      "needs_background": "light"
     },
     "output_type": "display_data"
    }
   ],
   "source": [
    "trips[trips.DIST1<50].groupby('DESTPURP1').DIST1.plot(kind='hist',bins=50)"
   ]
  },
  {
   "cell_type": "code",
   "execution_count": 55,
   "metadata": {},
   "outputs": [
    {
     "data": {
      "text/plain": [
       "Index(['TRIPID', 'PERSID', 'HHID', 'TRIPNO', 'STARTIME', 'ARRTIME', 'DEPTIME', 'DURATION', 'TRAVTIME', 'TRIPTIME', 'WAITIME', 'CUMDIST', 'DIST_GRP', 'ORIGLGA', 'ORIGPLACE1', 'ORIGPLACE2', 'ORIGPURP1', 'ORIGPURP2', 'DESTLGA', 'DESTPLACE1', 'DESTPLACE2', 'DESTPURP1', 'DESTPURP2', 'TRIPPURP', 'STOPS', 'LINKMODE', 'MODE1', 'DIST1', 'WDTRIPWGT'], dtype='object')"
      ]
     },
     "execution_count": 55,
     "metadata": {},
     "output_type": "execute_result"
    }
   ],
   "source": [
    "trips.columns"
   ]
  },
  {
   "cell_type": "markdown",
   "metadata": {},
   "source": [
    "### Get persons have first trip start from home, and last trip back home"
   ]
  },
  {
   "cell_type": "code",
   "execution_count": 56,
   "metadata": {},
   "outputs": [
    {
     "data": {
      "text/plain": [
       "array([ 1,  2,  3,  4,  5,  6,  7,  8,  9, 10, 11, 12, 13, 14, 15, 16, 17,\n",
       "       18, 19, 20, 21, 22, 23, 24])"
      ]
     },
     "execution_count": 56,
     "metadata": {},
     "output_type": "execute_result"
    }
   ],
   "source": [
    "trips.TRIPNO.unique()"
   ]
  },
  {
   "cell_type": "code",
   "execution_count": 57,
   "metadata": {
    "scrolled": true
   },
   "outputs": [
    {
     "data": {
      "text/plain": [
       "ORIGPURP1                        \n",
       "At Home                              47459\n",
       "Unknown Purpose (at start of day)     1763\n",
       "Work Related                            76\n",
       "Accompany Someone                       48\n",
       "Social                                  10\n",
       "Change Mode                              4\n",
       "Personal Business                        3\n",
       "Recreational                             3\n",
       "Buy Something                            1\n",
       "dtype: int64"
      ]
     },
     "execution_count": 57,
     "metadata": {},
     "output_type": "execute_result"
    }
   ],
   "source": [
    "# Check if all first trip start from HOME?\n",
    "trips.loc[trips.TRIPNO == 1,['ORIGPURP1']].value_counts()"
   ]
  },
  {
   "cell_type": "code",
   "execution_count": 58,
   "metadata": {},
   "outputs": [
    {
     "data": {
      "text/plain": [
       "Go Home                         686\n",
       "Social                          317\n",
       "Buy Something                   214\n",
       "Recreational                    165\n",
       "Work Related                    142\n",
       "Personal Business                75\n",
       "Education                        59\n",
       "Pick-up or Drop-off Someone      38\n",
       "Accompany Someone                36\n",
       "Pick-up or Deliver Something     14\n",
       "Other Purpose                    12\n",
       "Change Mode                       5\n",
       "Name: DESTPURP1, dtype: int64"
      ]
     },
     "execution_count": 58,
     "metadata": {},
     "output_type": "execute_result"
    }
   ],
   "source": [
    "trips.loc[trips.TRIPNO == 1 & trips['ORIGPURP1'].isin(['Unknown Purpose (at start of day)']),:].DESTPURP1.value_counts()"
   ]
  },
  {
   "cell_type": "markdown",
   "metadata": {},
   "source": [
    "###### First at home activity (At Home Begin Day)"
   ]
  },
  {
   "cell_type": "code",
   "execution_count": 59,
   "metadata": {},
   "outputs": [
    {
     "data": {
      "text/plain": [
       "((168122, 29), (47459, 2))"
      ]
     },
     "execution_count": 59,
     "metadata": {},
     "output_type": "execute_result"
    }
   ],
   "source": [
    "# Only get persons who start FROM HOME (fh_persons)\n",
    "fh_persons = trips.loc[trips.TRIPNO == 1 & trips['ORIGPURP1'].isin(['At Home']),['HHID','PERSID']]\n",
    "trips = trips[trips.PERSID.isin(fh_persons.PERSID)]\n",
    "trips.shape, fh_persons.shape"
   ]
  },
  {
   "cell_type": "code",
   "execution_count": 60,
   "metadata": {},
   "outputs": [],
   "source": [
    "# Call first at home activity is Home Begin\n",
    "trips.loc[trips.TRIPNO == 1 & trips['ORIGPURP1'].isin(['At Home']),['ORIGPURP1']] = 'HmB'"
   ]
  },
  {
   "cell_type": "markdown",
   "metadata": {},
   "source": [
    "###### Last at home activity (At Home End Day)"
   ]
  },
  {
   "cell_type": "code",
   "execution_count": 61,
   "metadata": {},
   "outputs": [
    {
     "data": {
      "text/plain": [
       "(47459, 29)"
      ]
     },
     "execution_count": 61,
     "metadata": {},
     "output_type": "execute_result"
    }
   ],
   "source": [
    "# Check the last trip's purpose of each person\n",
    "last_trips = trips.groupby('PERSID',as_index=False).last()\n",
    "last_trips.shape"
   ]
  },
  {
   "cell_type": "code",
   "execution_count": 62,
   "metadata": {},
   "outputs": [
    {
     "data": {
      "text/plain": [
       "(47459, 47459)"
      ]
     },
     "execution_count": 62,
     "metadata": {},
     "output_type": "execute_result"
    }
   ],
   "source": [
    "last_trips.TRIPID.nunique(), last_trips.PERSID.nunique()"
   ]
  },
  {
   "cell_type": "code",
   "execution_count": 63,
   "metadata": {},
   "outputs": [
    {
     "data": {
      "text/plain": [
       "Go Home                         46316\n",
       "Personal Business                 804\n",
       "Social                            102\n",
       "Change Mode                        97\n",
       "Accompany Someone                  95\n",
       "Work Related                       33\n",
       "Education                           5\n",
       "Recreational                        5\n",
       "Pick-up or Deliver Something        1\n",
       "Other Purpose                       1\n",
       "Name: DESTPURP1, dtype: int64"
      ]
     },
     "execution_count": 63,
     "metadata": {},
     "output_type": "execute_result"
    }
   ],
   "source": [
    "# Purpose of last trip\n",
    "last_trips.DESTPURP1.value_counts()"
   ]
  },
  {
   "cell_type": "code",
   "execution_count": 64,
   "metadata": {},
   "outputs": [
    {
     "data": {
      "text/plain": [
       "((46316, 29), (47459, 29))"
      ]
     },
     "execution_count": 64,
     "metadata": {},
     "output_type": "execute_result"
    }
   ],
   "source": [
    "gh_persons = last_trips[last_trips.DESTPURP1.isin(['Go Home'])]\n",
    "gh_persons.shape, last_trips.shape"
   ]
  },
  {
   "cell_type": "code",
   "execution_count": 65,
   "metadata": {},
   "outputs": [
    {
     "data": {
      "text/plain": [
       "((164719, 29), (46316, 29))"
      ]
     },
     "execution_count": 65,
     "metadata": {},
     "output_type": "execute_result"
    }
   ],
   "source": [
    "# Only get persons who in the end GO HOME (gh_persons)\n",
    "trips = trips[trips.PERSID.isin(gh_persons.PERSID)]\n",
    "trips.shape, gh_persons.shape"
   ]
  },
  {
   "cell_type": "code",
   "execution_count": 66,
   "metadata": {},
   "outputs": [],
   "source": [
    "# Call last at home activity is Home End\n",
    "trips.loc[trips.TRIPID.isin(last_trips.TRIPID),['DESTPURP1']] = 'HmE'"
   ]
  },
  {
   "cell_type": "markdown",
   "metadata": {},
   "source": [
    "##### Deal with too many trips in a day"
   ]
  },
  {
   "cell_type": "code",
   "execution_count": 67,
   "metadata": {},
   "outputs": [
    {
     "data": {
      "text/plain": [
       "array([ 1,  2,  3,  4,  5,  6,  7,  8,  9, 10, 11, 12, 13, 14, 15, 16, 17,\n",
       "       18, 19, 20, 21, 22, 23, 24])"
      ]
     },
     "execution_count": 67,
     "metadata": {},
     "output_type": "execute_result"
    }
   ],
   "source": [
    "# Check number of trips\n",
    "trips.TRIPNO.unique()"
   ]
  },
  {
   "cell_type": "code",
   "execution_count": 68,
   "metadata": {},
   "outputs": [
    {
     "data": {
      "text/plain": [
       "(459, 426)"
      ]
     },
     "execution_count": 68,
     "metadata": {},
     "output_type": "execute_result"
    }
   ],
   "source": [
    "# Check all person that have more than 10 trips a day\n",
    "trips[trips.TRIPNO > 10].PERSID.nunique(), trips[trips.TRIPNO > 10].HHID.nunique()"
   ]
  },
  {
   "cell_type": "code",
   "execution_count": 69,
   "metadata": {},
   "outputs": [
    {
     "data": {
      "text/plain": [
       "((5565, 29), (164719, 29))"
      ]
     },
     "execution_count": 69,
     "metadata": {},
     "output_type": "execute_result"
    }
   ],
   "source": [
    "trips[trips.PERSID.isin(trips[trips.TRIPNO > 10].PERSID)].shape, trips.shape"
   ]
  },
  {
   "cell_type": "code",
   "execution_count": 70,
   "metadata": {},
   "outputs": [
    {
     "data": {
      "text/plain": [
       "(9711, 29)"
      ]
     },
     "execution_count": 70,
     "metadata": {},
     "output_type": "execute_result"
    }
   ],
   "source": [
    "trips[trips.HHID.isin(trips[trips.TRIPNO > 10].HHID)].shape"
   ]
  },
  {
   "cell_type": "code",
   "execution_count": 71,
   "metadata": {},
   "outputs": [],
   "source": [
    "# Remove households that have persons more than 10 trips\n",
    "# => MAYBE SHOULD NOT DO IT - DANHPT 20201016\n",
    "# trips = trips[~trips.HHID.isin(trips[trips.TRIPNO > 10].HHID)]"
   ]
  },
  {
   "cell_type": "code",
   "execution_count": 72,
   "metadata": {},
   "outputs": [
    {
     "data": {
      "text/plain": [
       "(164719, 29)"
      ]
     },
     "execution_count": 72,
     "metadata": {},
     "output_type": "execute_result"
    }
   ],
   "source": [
    "trips.shape"
   ]
  },
  {
   "cell_type": "markdown",
   "metadata": {},
   "source": [
    "### Process Activity type (purpose) and Location"
   ]
  },
  {
   "cell_type": "code",
   "execution_count": 73,
   "metadata": {},
   "outputs": [],
   "source": [
    "#Get previous acitivity infor\n",
    "trips['PreActLocation'] = trips['ORIGLGA']\n",
    "trips['PreActLocationType'] = trips['ORIGPLACE1']\n",
    "trips['PreActType'] = trips['ORIGPURP1']"
   ]
  },
  {
   "cell_type": "code",
   "execution_count": 74,
   "metadata": {},
   "outputs": [],
   "source": [
    "#Get current activity location and type\n",
    "trips['ActLocation'] = trips['DESTLGA']\n",
    "trips['ActLocationType'] = trips['DESTPLACE1']\n",
    "trips['ActType'] = trips['DESTPURP1']"
   ]
  },
  {
   "cell_type": "code",
   "execution_count": 75,
   "metadata": {},
   "outputs": [],
   "source": [
    "act_type_cols = ['ActType','ActLocation','ActLocationType','PreActType','PreActLocation','PreActLocationType']"
   ]
  },
  {
   "cell_type": "code",
   "execution_count": 76,
   "metadata": {},
   "outputs": [
    {
     "data": {
      "text/html": [
       "<div>\n",
       "<style scoped>\n",
       "    .dataframe tbody tr th:only-of-type {\n",
       "        vertical-align: middle;\n",
       "    }\n",
       "\n",
       "    .dataframe tbody tr th {\n",
       "        vertical-align: top;\n",
       "    }\n",
       "\n",
       "    .dataframe thead th {\n",
       "        text-align: right;\n",
       "    }\n",
       "</style>\n",
       "<table border=\"1\" class=\"dataframe\">\n",
       "  <thead>\n",
       "    <tr style=\"text-align: right;\">\n",
       "      <th></th>\n",
       "      <th>TRIPID</th>\n",
       "      <th>PERSID</th>\n",
       "      <th>HHID</th>\n",
       "      <th>TRIPNO</th>\n",
       "      <th>DESTLGA</th>\n",
       "      <th>DESTPLACE1</th>\n",
       "      <th>DESTPLACE2</th>\n",
       "      <th>DESTPURP1</th>\n",
       "      <th>DESTPURP2</th>\n",
       "      <th>TRIPPURP</th>\n",
       "      <th>ActType</th>\n",
       "      <th>ActLocation</th>\n",
       "      <th>ActLocationType</th>\n",
       "      <th>PreActType</th>\n",
       "      <th>PreActLocation</th>\n",
       "      <th>PreActLocationType</th>\n",
       "    </tr>\n",
       "  </thead>\n",
       "  <tbody>\n",
       "    <tr>\n",
       "      <th>0</th>\n",
       "      <td>Y12H0000101P01T01</td>\n",
       "      <td>Y12H0000101P01</td>\n",
       "      <td>Y12H0000101</td>\n",
       "      <td>1</td>\n",
       "      <td>Whittlesea (C)</td>\n",
       "      <td>Workplace</td>\n",
       "      <td>My Workplace</td>\n",
       "      <td>Work Related</td>\n",
       "      <td>Own Workplace</td>\n",
       "      <td>Work Related</td>\n",
       "      <td>Work Related</td>\n",
       "      <td>Whittlesea (C)</td>\n",
       "      <td>Workplace</td>\n",
       "      <td>HmB</td>\n",
       "      <td>Whittlesea (C)</td>\n",
       "      <td>Accommodation</td>\n",
       "    </tr>\n",
       "    <tr>\n",
       "      <th>1</th>\n",
       "      <td>Y12H0000101P01T02</td>\n",
       "      <td>Y12H0000101P01</td>\n",
       "      <td>Y12H0000101</td>\n",
       "      <td>2</td>\n",
       "      <td>Whittlesea (C)</td>\n",
       "      <td>Accommodation</td>\n",
       "      <td>Survey Home</td>\n",
       "      <td>HmE</td>\n",
       "      <td>At or Go Home</td>\n",
       "      <td>Work Related</td>\n",
       "      <td>HmE</td>\n",
       "      <td>Whittlesea (C)</td>\n",
       "      <td>Accommodation</td>\n",
       "      <td>Work Related</td>\n",
       "      <td>Whittlesea (C)</td>\n",
       "      <td>Workplace</td>\n",
       "    </tr>\n",
       "    <tr>\n",
       "      <th>2</th>\n",
       "      <td>Y12H0000101P02T01</td>\n",
       "      <td>Y12H0000101P02</td>\n",
       "      <td>Y12H0000101</td>\n",
       "      <td>1</td>\n",
       "      <td>Whittlesea (C)</td>\n",
       "      <td>Place of Education</td>\n",
       "      <td>Primary School</td>\n",
       "      <td>Pick-up or Drop-off Someone</td>\n",
       "      <td>Someone picked-up or delivered</td>\n",
       "      <td>Pick-up or Drop-off Someone</td>\n",
       "      <td>Pick-up or Drop-off Someone</td>\n",
       "      <td>Whittlesea (C)</td>\n",
       "      <td>Place of Education</td>\n",
       "      <td>HmB</td>\n",
       "      <td>Whittlesea (C)</td>\n",
       "      <td>Accommodation</td>\n",
       "    </tr>\n",
       "    <tr>\n",
       "      <th>3</th>\n",
       "      <td>Y12H0000101P02T02</td>\n",
       "      <td>Y12H0000101P02</td>\n",
       "      <td>Y12H0000101</td>\n",
       "      <td>2</td>\n",
       "      <td>Whittlesea (C)</td>\n",
       "      <td>Shops</td>\n",
       "      <td>Shopping Centre</td>\n",
       "      <td>Buy Something</td>\n",
       "      <td>Bought something</td>\n",
       "      <td>Buy Something</td>\n",
       "      <td>Buy Something</td>\n",
       "      <td>Whittlesea (C)</td>\n",
       "      <td>Shops</td>\n",
       "      <td>Pick-up or Drop-off Someone</td>\n",
       "      <td>Whittlesea (C)</td>\n",
       "      <td>Place of Education</td>\n",
       "    </tr>\n",
       "    <tr>\n",
       "      <th>4</th>\n",
       "      <td>Y12H0000101P02T03</td>\n",
       "      <td>Y12H0000101P02</td>\n",
       "      <td>Y12H0000101</td>\n",
       "      <td>3</td>\n",
       "      <td>Whittlesea (C)</td>\n",
       "      <td>Accommodation</td>\n",
       "      <td>Survey Home</td>\n",
       "      <td>Go Home</td>\n",
       "      <td>At or Go Home</td>\n",
       "      <td>Buy Something</td>\n",
       "      <td>Go Home</td>\n",
       "      <td>Whittlesea (C)</td>\n",
       "      <td>Accommodation</td>\n",
       "      <td>Buy Something</td>\n",
       "      <td>Whittlesea (C)</td>\n",
       "      <td>Shops</td>\n",
       "    </tr>\n",
       "  </tbody>\n",
       "</table>\n",
       "</div>"
      ],
      "text/plain": [
       "              TRIPID          PERSID         HHID  TRIPNO         DESTLGA          DESTPLACE1       DESTPLACE2                    DESTPURP1                       DESTPURP2                     TRIPPURP                      ActType     ActLocation     ActLocationType                   PreActType  PreActLocation  PreActLocationType\n",
       "0  Y12H0000101P01T01  Y12H0000101P01  Y12H0000101       1  Whittlesea (C)           Workplace     My Workplace                 Work Related                   Own Workplace                 Work Related                 Work Related  Whittlesea (C)           Workplace                          HmB  Whittlesea (C)       Accommodation\n",
       "1  Y12H0000101P01T02  Y12H0000101P01  Y12H0000101       2  Whittlesea (C)       Accommodation      Survey Home                          HmE                   At or Go Home                 Work Related                          HmE  Whittlesea (C)       Accommodation                 Work Related  Whittlesea (C)           Workplace\n",
       "2  Y12H0000101P02T01  Y12H0000101P02  Y12H0000101       1  Whittlesea (C)  Place of Education   Primary School  Pick-up or Drop-off Someone  Someone picked-up or delivered  Pick-up or Drop-off Someone  Pick-up or Drop-off Someone  Whittlesea (C)  Place of Education                          HmB  Whittlesea (C)       Accommodation\n",
       "3  Y12H0000101P02T02  Y12H0000101P02  Y12H0000101       2  Whittlesea (C)               Shops  Shopping Centre                Buy Something                Bought something                Buy Something                Buy Something  Whittlesea (C)               Shops  Pick-up or Drop-off Someone  Whittlesea (C)  Place of Education\n",
       "4  Y12H0000101P02T03  Y12H0000101P02  Y12H0000101       3  Whittlesea (C)       Accommodation      Survey Home                      Go Home                   At or Go Home                Buy Something                      Go Home  Whittlesea (C)       Accommodation                Buy Something  Whittlesea (C)               Shops"
      ]
     },
     "execution_count": 76,
     "metadata": {},
     "output_type": "execute_result"
    }
   ],
   "source": [
    "trips[tripid_cols + destin_cols + act_type_cols].head()"
   ]
  },
  {
   "cell_type": "code",
   "execution_count": 77,
   "metadata": {},
   "outputs": [
    {
     "data": {
      "text/plain": [
       "(HmE                             46316\n",
       " Work Related                    21723\n",
       " Go Home                         19639\n",
       " Buy Something                   17617\n",
       " Social                          16167\n",
       " Pick-up or Drop-off Someone     11905\n",
       " Recreational                     8393\n",
       " Personal Business                7907\n",
       " Education                        6643\n",
       " Accompany Someone                5666\n",
       " Pick-up or Deliver Something     2255\n",
       " Other Purpose                     470\n",
       " Change Mode                        15\n",
       " Not Stated                          3\n",
       " Name: ActType, dtype: int64,\n",
       " HmB                             46316\n",
       " Work Related                    21722\n",
       " At Home                         19639\n",
       " Buy Something                   17617\n",
       " Social                          16166\n",
       " Pick-up or Drop-off Someone     11904\n",
       " Recreational                     8393\n",
       " Personal Business                7907\n",
       " Education                        6643\n",
       " Accompany Someone                5665\n",
       " Pick-up or Deliver Something     2255\n",
       " Other Purpose                     470\n",
       " Change Mode                        19\n",
       " Not Stated                          3\n",
       " Name: PreActType, dtype: int64)"
      ]
     },
     "execution_count": 77,
     "metadata": {},
     "output_type": "execute_result"
    }
   ],
   "source": [
    "trips['ActType'].value_counts(), trips['PreActType'].value_counts()"
   ]
  },
  {
   "cell_type": "code",
   "execution_count": 78,
   "metadata": {},
   "outputs": [],
   "source": [
    "# Map activity type\n",
    "trips.PreActType = trips.PreActType.map({'At Home':'Home', 'Work Related':'Work','Buy Something':'Shop','Social':'Social',\n",
    "                   'Pick-up or Drop-off Someone':'PuDo','Pick-up or Deliver Something':'PuDo',\n",
    "                   'Personal Business':'PerBiz','Recreational':'Recreational','Education':'Study',\n",
    "                   'Accompany Someone':'Other','Other Purpose':'Other','Change Mode':'Other','Not Stated':'Other',\n",
    "                    'Unknown Purpose (at start of day)':'Other','HmB':'Home'})\n",
    "trips.ActType = trips.ActType.map({'Go Home':'Home', 'Work Related':'Work','Buy Something':'Shop','Social':'Social',\n",
    "                   'Pick-up or Drop-off Someone':'PuDo','Pick-up or Deliver Something':'PuDo',\n",
    "                   'Personal Business':'Personal Biz','Recreational':'Recreational','Education':'Study','HmE':'Home',\n",
    "                   'Accompany Someone':'Other','Other Purpose':'Other','Change Mode':'Other','Not Stated':'Other'})"
   ]
  },
  {
   "cell_type": "code",
   "execution_count": 80,
   "metadata": {},
   "outputs": [
    {
     "data": {
      "text/plain": [
       "(Home            65955\n",
       " Work            21723\n",
       " Shop            17617\n",
       " Social          16167\n",
       " PuDo            14160\n",
       " Recreational     8393\n",
       " Personal Biz     7907\n",
       " Study            6643\n",
       " Other            6154\n",
       " Name: ActType, dtype: int64,\n",
       " Home            65955\n",
       " Work            21722\n",
       " Shop            17617\n",
       " Social          16166\n",
       " PuDo            14159\n",
       " Recreational     8393\n",
       " PerBiz           7907\n",
       " Study            6643\n",
       " Other            6157\n",
       " Name: PreActType, dtype: int64)"
      ]
     },
     "execution_count": 80,
     "metadata": {},
     "output_type": "execute_result"
    }
   ],
   "source": [
    "trips['ActType'].value_counts(), trips['PreActType'].value_counts()"
   ]
  },
  {
   "cell_type": "code",
   "execution_count": 81,
   "metadata": {},
   "outputs": [
    {
     "data": {
      "text/plain": [
       "(164719, 35)"
      ]
     },
     "execution_count": 81,
     "metadata": {},
     "output_type": "execute_result"
    }
   ],
   "source": [
    "trips.shape"
   ]
  },
  {
   "cell_type": "markdown",
   "metadata": {},
   "source": [
    "### Process Activity start-time and duration"
   ]
  },
  {
   "cell_type": "code",
   "execution_count": 82,
   "metadata": {},
   "outputs": [
    {
     "data": {
      "text/html": [
       "<div>\n",
       "<style scoped>\n",
       "    .dataframe tbody tr th:only-of-type {\n",
       "        vertical-align: middle;\n",
       "    }\n",
       "\n",
       "    .dataframe tbody tr th {\n",
       "        vertical-align: top;\n",
       "    }\n",
       "\n",
       "    .dataframe thead th {\n",
       "        text-align: right;\n",
       "    }\n",
       "</style>\n",
       "<table border=\"1\" class=\"dataframe\">\n",
       "  <thead>\n",
       "    <tr style=\"text-align: right;\">\n",
       "      <th></th>\n",
       "      <th>TRIPID</th>\n",
       "      <th>PERSID</th>\n",
       "      <th>HHID</th>\n",
       "      <th>TRIPNO</th>\n",
       "      <th>ActType</th>\n",
       "      <th>ActLocation</th>\n",
       "      <th>ActLocationType</th>\n",
       "      <th>PreActType</th>\n",
       "      <th>PreActLocation</th>\n",
       "      <th>PreActLocationType</th>\n",
       "      <th>STARTIME</th>\n",
       "      <th>ARRTIME</th>\n",
       "      <th>DEPTIME</th>\n",
       "      <th>DURATION</th>\n",
       "      <th>TRAVTIME</th>\n",
       "      <th>TRIPTIME</th>\n",
       "      <th>WAITIME</th>\n",
       "    </tr>\n",
       "  </thead>\n",
       "  <tbody>\n",
       "    <tr>\n",
       "      <th>0</th>\n",
       "      <td>Y12H0000101P01T01</td>\n",
       "      <td>Y12H0000101P01</td>\n",
       "      <td>Y12H0000101</td>\n",
       "      <td>1</td>\n",
       "      <td>Work</td>\n",
       "      <td>Whittlesea (C)</td>\n",
       "      <td>Workplace</td>\n",
       "      <td>Home</td>\n",
       "      <td>Whittlesea (C)</td>\n",
       "      <td>Accommodation</td>\n",
       "      <td>525</td>\n",
       "      <td>545</td>\n",
       "      <td>1050.0</td>\n",
       "      <td>505.0</td>\n",
       "      <td>20</td>\n",
       "      <td>20</td>\n",
       "      <td>0</td>\n",
       "    </tr>\n",
       "    <tr>\n",
       "      <th>1</th>\n",
       "      <td>Y12H0000101P01T02</td>\n",
       "      <td>Y12H0000101P01</td>\n",
       "      <td>Y12H0000101</td>\n",
       "      <td>2</td>\n",
       "      <td>Home</td>\n",
       "      <td>Whittlesea (C)</td>\n",
       "      <td>Accommodation</td>\n",
       "      <td>Work</td>\n",
       "      <td>Whittlesea (C)</td>\n",
       "      <td>Workplace</td>\n",
       "      <td>1050</td>\n",
       "      <td>1075</td>\n",
       "      <td>NaN</td>\n",
       "      <td>NaN</td>\n",
       "      <td>25</td>\n",
       "      <td>25</td>\n",
       "      <td>0</td>\n",
       "    </tr>\n",
       "    <tr>\n",
       "      <th>2</th>\n",
       "      <td>Y12H0000101P02T01</td>\n",
       "      <td>Y12H0000101P02</td>\n",
       "      <td>Y12H0000101</td>\n",
       "      <td>1</td>\n",
       "      <td>PuDo</td>\n",
       "      <td>Whittlesea (C)</td>\n",
       "      <td>Place of Education</td>\n",
       "      <td>Home</td>\n",
       "      <td>Whittlesea (C)</td>\n",
       "      <td>Accommodation</td>\n",
       "      <td>500</td>\n",
       "      <td>520</td>\n",
       "      <td>540.0</td>\n",
       "      <td>20.0</td>\n",
       "      <td>20</td>\n",
       "      <td>20</td>\n",
       "      <td>0</td>\n",
       "    </tr>\n",
       "    <tr>\n",
       "      <th>3</th>\n",
       "      <td>Y12H0000101P02T02</td>\n",
       "      <td>Y12H0000101P02</td>\n",
       "      <td>Y12H0000101</td>\n",
       "      <td>2</td>\n",
       "      <td>Shop</td>\n",
       "      <td>Whittlesea (C)</td>\n",
       "      <td>Shops</td>\n",
       "      <td>PuDo</td>\n",
       "      <td>Whittlesea (C)</td>\n",
       "      <td>Place of Education</td>\n",
       "      <td>540</td>\n",
       "      <td>550</td>\n",
       "      <td>600.0</td>\n",
       "      <td>50.0</td>\n",
       "      <td>10</td>\n",
       "      <td>10</td>\n",
       "      <td>0</td>\n",
       "    </tr>\n",
       "    <tr>\n",
       "      <th>4</th>\n",
       "      <td>Y12H0000101P02T03</td>\n",
       "      <td>Y12H0000101P02</td>\n",
       "      <td>Y12H0000101</td>\n",
       "      <td>3</td>\n",
       "      <td>Home</td>\n",
       "      <td>Whittlesea (C)</td>\n",
       "      <td>Accommodation</td>\n",
       "      <td>Shop</td>\n",
       "      <td>Whittlesea (C)</td>\n",
       "      <td>Shops</td>\n",
       "      <td>600</td>\n",
       "      <td>610</td>\n",
       "      <td>890.0</td>\n",
       "      <td>280.0</td>\n",
       "      <td>10</td>\n",
       "      <td>10</td>\n",
       "      <td>0</td>\n",
       "    </tr>\n",
       "  </tbody>\n",
       "</table>\n",
       "</div>"
      ],
      "text/plain": [
       "              TRIPID          PERSID         HHID  TRIPNO ActType     ActLocation     ActLocationType PreActType  PreActLocation  PreActLocationType  STARTIME  ARRTIME  DEPTIME  DURATION  TRAVTIME  TRIPTIME  WAITIME\n",
       "0  Y12H0000101P01T01  Y12H0000101P01  Y12H0000101       1    Work  Whittlesea (C)           Workplace       Home  Whittlesea (C)       Accommodation       525      545   1050.0     505.0        20        20        0\n",
       "1  Y12H0000101P01T02  Y12H0000101P01  Y12H0000101       2    Home  Whittlesea (C)       Accommodation       Work  Whittlesea (C)           Workplace      1050     1075      NaN       NaN        25        25        0\n",
       "2  Y12H0000101P02T01  Y12H0000101P02  Y12H0000101       1    PuDo  Whittlesea (C)  Place of Education       Home  Whittlesea (C)       Accommodation       500      520    540.0      20.0        20        20        0\n",
       "3  Y12H0000101P02T02  Y12H0000101P02  Y12H0000101       2    Shop  Whittlesea (C)               Shops       PuDo  Whittlesea (C)  Place of Education       540      550    600.0      50.0        10        10        0\n",
       "4  Y12H0000101P02T03  Y12H0000101P02  Y12H0000101       3    Home  Whittlesea (C)       Accommodation       Shop  Whittlesea (C)               Shops       600      610    890.0     280.0        10        10        0"
      ]
     },
     "execution_count": 82,
     "metadata": {},
     "output_type": "execute_result"
    }
   ],
   "source": [
    "trips[tripid_cols + act_type_cols + time_cols].head()"
   ]
  },
  {
   "cell_type": "markdown",
   "metadata": {},
   "source": [
    "#### Get start and end time of activity"
   ]
  },
  {
   "cell_type": "code",
   "execution_count": 83,
   "metadata": {},
   "outputs": [],
   "source": [
    "# Get end time of previous activity\n",
    "trips['PreActEndTime'] = trips['STARTIME'] # End of previous activity is the start time of the trip to current activity"
   ]
  },
  {
   "cell_type": "code",
   "execution_count": 84,
   "metadata": {},
   "outputs": [],
   "source": [
    "# Start time and end time of current activity\n",
    "trips['ActStartTime'] = trips['ARRTIME']   # Arrival time at activity\n",
    "trips['ActEndTime']   = trips['DEPTIME']   # End time of activity"
   ]
  },
  {
   "cell_type": "code",
   "execution_count": 85,
   "metadata": {},
   "outputs": [
    {
     "data": {
      "text/plain": [
       "(46082, 46078)"
      ]
     },
     "execution_count": 85,
     "metadata": {},
     "output_type": "execute_result"
    }
   ],
   "source": [
    "# How many different person have null end time of current activity? => These are Null for \"Home End\" activity\n",
    "trips.ActEndTime.isna().sum(), trips[trips.ActEndTime.isna()].PERSID.nunique()"
   ]
  },
  {
   "cell_type": "code",
   "execution_count": 86,
   "metadata": {},
   "outputs": [],
   "source": [
    "# Get END time of \"At Home\" next day\n",
    "def getEndTimeAtHome(personGroup):\n",
    "    return pd.DataFrame({'PreActEndTime':personGroup, 'EndTimeAtHome':personGroup.min() + 24*60})"
   ]
  },
  {
   "cell_type": "code",
   "execution_count": 87,
   "metadata": {},
   "outputs": [
    {
     "name": "stdout",
     "output_type": "stream",
     "text": [
      "CPU times: user 16.8 s, sys: 114 ms, total: 16.9 s\n",
      "Wall time: 16.5 s\n"
     ]
    }
   ],
   "source": [
    "%%time\n",
    "# Address NaN of \"End Home\" activity\n",
    "trips['EndTimeAtHome'] = trips.groupby(['PERSID']).PreActEndTime.apply(getEndTimeAtHome)['EndTimeAtHome']"
   ]
  },
  {
   "cell_type": "code",
   "execution_count": 88,
   "metadata": {},
   "outputs": [],
   "source": [
    "trips.loc[trips.ActEndTime.isna() & trips.ActType.isin(['HmE']),['ActEndTime']] = trips['EndTimeAtHome']"
   ]
  },
  {
   "cell_type": "code",
   "execution_count": 89,
   "metadata": {},
   "outputs": [
    {
     "data": {
      "text/html": [
       "<div>\n",
       "<style scoped>\n",
       "    .dataframe tbody tr th:only-of-type {\n",
       "        vertical-align: middle;\n",
       "    }\n",
       "\n",
       "    .dataframe tbody tr th {\n",
       "        vertical-align: top;\n",
       "    }\n",
       "\n",
       "    .dataframe thead th {\n",
       "        text-align: right;\n",
       "    }\n",
       "</style>\n",
       "<table border=\"1\" class=\"dataframe\">\n",
       "  <thead>\n",
       "    <tr style=\"text-align: right;\">\n",
       "      <th></th>\n",
       "      <th>TRIPID</th>\n",
       "      <th>PERSID</th>\n",
       "      <th>HHID</th>\n",
       "      <th>TRIPNO</th>\n",
       "      <th>PreActType</th>\n",
       "      <th>PreActEndTime</th>\n",
       "      <th>ActType</th>\n",
       "      <th>ActStartTime</th>\n",
       "      <th>ActEndTime</th>\n",
       "      <th>EndTimeAtHome</th>\n",
       "    </tr>\n",
       "  </thead>\n",
       "  <tbody>\n",
       "    <tr>\n",
       "      <th>0</th>\n",
       "      <td>Y12H0000101P01T01</td>\n",
       "      <td>Y12H0000101P01</td>\n",
       "      <td>Y12H0000101</td>\n",
       "      <td>1</td>\n",
       "      <td>Home</td>\n",
       "      <td>525</td>\n",
       "      <td>Work</td>\n",
       "      <td>545</td>\n",
       "      <td>1050.0</td>\n",
       "      <td>1965</td>\n",
       "    </tr>\n",
       "    <tr>\n",
       "      <th>1</th>\n",
       "      <td>Y12H0000101P01T02</td>\n",
       "      <td>Y12H0000101P01</td>\n",
       "      <td>Y12H0000101</td>\n",
       "      <td>2</td>\n",
       "      <td>Work</td>\n",
       "      <td>1050</td>\n",
       "      <td>Home</td>\n",
       "      <td>1075</td>\n",
       "      <td>NaN</td>\n",
       "      <td>1965</td>\n",
       "    </tr>\n",
       "    <tr>\n",
       "      <th>2</th>\n",
       "      <td>Y12H0000101P02T01</td>\n",
       "      <td>Y12H0000101P02</td>\n",
       "      <td>Y12H0000101</td>\n",
       "      <td>1</td>\n",
       "      <td>Home</td>\n",
       "      <td>500</td>\n",
       "      <td>PuDo</td>\n",
       "      <td>520</td>\n",
       "      <td>540.0</td>\n",
       "      <td>1940</td>\n",
       "    </tr>\n",
       "    <tr>\n",
       "      <th>3</th>\n",
       "      <td>Y12H0000101P02T02</td>\n",
       "      <td>Y12H0000101P02</td>\n",
       "      <td>Y12H0000101</td>\n",
       "      <td>2</td>\n",
       "      <td>PuDo</td>\n",
       "      <td>540</td>\n",
       "      <td>Shop</td>\n",
       "      <td>550</td>\n",
       "      <td>600.0</td>\n",
       "      <td>1940</td>\n",
       "    </tr>\n",
       "    <tr>\n",
       "      <th>4</th>\n",
       "      <td>Y12H0000101P02T03</td>\n",
       "      <td>Y12H0000101P02</td>\n",
       "      <td>Y12H0000101</td>\n",
       "      <td>3</td>\n",
       "      <td>Shop</td>\n",
       "      <td>600</td>\n",
       "      <td>Home</td>\n",
       "      <td>610</td>\n",
       "      <td>890.0</td>\n",
       "      <td>1940</td>\n",
       "    </tr>\n",
       "    <tr>\n",
       "      <th>5</th>\n",
       "      <td>Y12H0000101P02T04</td>\n",
       "      <td>Y12H0000101P02</td>\n",
       "      <td>Y12H0000101</td>\n",
       "      <td>4</td>\n",
       "      <td>Home</td>\n",
       "      <td>890</td>\n",
       "      <td>PuDo</td>\n",
       "      <td>910</td>\n",
       "      <td>940.0</td>\n",
       "      <td>1940</td>\n",
       "    </tr>\n",
       "    <tr>\n",
       "      <th>6</th>\n",
       "      <td>Y12H0000101P02T05</td>\n",
       "      <td>Y12H0000101P02</td>\n",
       "      <td>Y12H0000101</td>\n",
       "      <td>5</td>\n",
       "      <td>PuDo</td>\n",
       "      <td>940</td>\n",
       "      <td>Home</td>\n",
       "      <td>950</td>\n",
       "      <td>NaN</td>\n",
       "      <td>1940</td>\n",
       "    </tr>\n",
       "    <tr>\n",
       "      <th>7</th>\n",
       "      <td>Y12H0000101P03T01</td>\n",
       "      <td>Y12H0000101P03</td>\n",
       "      <td>Y12H0000101</td>\n",
       "      <td>1</td>\n",
       "      <td>Home</td>\n",
       "      <td>500</td>\n",
       "      <td>Study</td>\n",
       "      <td>520</td>\n",
       "      <td>940.0</td>\n",
       "      <td>1940</td>\n",
       "    </tr>\n",
       "  </tbody>\n",
       "</table>\n",
       "</div>"
      ],
      "text/plain": [
       "              TRIPID          PERSID         HHID  TRIPNO PreActType  PreActEndTime ActType  ActStartTime  ActEndTime  EndTimeAtHome\n",
       "0  Y12H0000101P01T01  Y12H0000101P01  Y12H0000101       1       Home            525    Work           545      1050.0           1965\n",
       "1  Y12H0000101P01T02  Y12H0000101P01  Y12H0000101       2       Work           1050    Home          1075         NaN           1965\n",
       "2  Y12H0000101P02T01  Y12H0000101P02  Y12H0000101       1       Home            500    PuDo           520       540.0           1940\n",
       "3  Y12H0000101P02T02  Y12H0000101P02  Y12H0000101       2       PuDo            540    Shop           550       600.0           1940\n",
       "4  Y12H0000101P02T03  Y12H0000101P02  Y12H0000101       3       Shop            600    Home           610       890.0           1940\n",
       "5  Y12H0000101P02T04  Y12H0000101P02  Y12H0000101       4       Home            890    PuDo           910       940.0           1940\n",
       "6  Y12H0000101P02T05  Y12H0000101P02  Y12H0000101       5       PuDo            940    Home           950         NaN           1940\n",
       "7  Y12H0000101P03T01  Y12H0000101P03  Y12H0000101       1       Home            500   Study           520       940.0           1940"
      ]
     },
     "execution_count": 89,
     "metadata": {},
     "output_type": "execute_result"
    }
   ],
   "source": [
    "act_cols = ['PreActType','PreActEndTime','ActType','ActStartTime','ActEndTime','EndTimeAtHome']\n",
    "trips[tripid_cols + act_cols].head(8)"
   ]
  },
  {
   "cell_type": "code",
   "execution_count": 90,
   "metadata": {},
   "outputs": [
    {
     "data": {
      "text/plain": [
       "(975, 39)"
      ]
     },
     "execution_count": 90,
     "metadata": {},
     "output_type": "execute_result"
    }
   ],
   "source": [
    "trips[trips.TRIPNO > 10].shape"
   ]
  },
  {
   "cell_type": "code",
   "execution_count": 91,
   "metadata": {},
   "outputs": [
    {
     "data": {
      "text/plain": [
       "Home            46078\n",
       "Personal Biz        2\n",
       "Shop                1\n",
       "Recreational        1\n",
       "Name: ActType, dtype: int64"
      ]
     },
     "execution_count": 91,
     "metadata": {},
     "output_type": "execute_result"
    }
   ],
   "source": [
    "# Check Next Activiy Endtime Null  => remove them later\n",
    "trips[trips.ActEndTime.isna()].ActType.value_counts()"
   ]
  },
  {
   "cell_type": "markdown",
   "metadata": {},
   "source": [
    "#### Get activity duration"
   ]
  },
  {
   "cell_type": "code",
   "execution_count": 92,
   "metadata": {},
   "outputs": [],
   "source": [
    "# Get duration of next activity\n",
    "trips['ActDuration'] = trips['ActEndTime'] - trips['ActStartTime']"
   ]
  },
  {
   "cell_type": "code",
   "execution_count": 93,
   "metadata": {},
   "outputs": [
    {
     "data": {
      "text/html": [
       "<div>\n",
       "<style scoped>\n",
       "    .dataframe tbody tr th:only-of-type {\n",
       "        vertical-align: middle;\n",
       "    }\n",
       "\n",
       "    .dataframe tbody tr th {\n",
       "        vertical-align: top;\n",
       "    }\n",
       "\n",
       "    .dataframe thead th {\n",
       "        text-align: right;\n",
       "    }\n",
       "</style>\n",
       "<table border=\"1\" class=\"dataframe\">\n",
       "  <thead>\n",
       "    <tr style=\"text-align: right;\">\n",
       "      <th></th>\n",
       "      <th>count</th>\n",
       "      <th>mean</th>\n",
       "      <th>std</th>\n",
       "      <th>min</th>\n",
       "      <th>25%</th>\n",
       "      <th>50%</th>\n",
       "      <th>75%</th>\n",
       "      <th>max</th>\n",
       "    </tr>\n",
       "    <tr>\n",
       "      <th>ActType</th>\n",
       "      <th></th>\n",
       "      <th></th>\n",
       "      <th></th>\n",
       "      <th></th>\n",
       "      <th></th>\n",
       "      <th></th>\n",
       "      <th></th>\n",
       "      <th></th>\n",
       "    </tr>\n",
       "  </thead>\n",
       "  <tbody>\n",
       "    <tr>\n",
       "      <th>Home</th>\n",
       "      <td>19877.0</td>\n",
       "      <td>129.745434</td>\n",
       "      <td>121.868361</td>\n",
       "      <td>-6.0</td>\n",
       "      <td>35.0</td>\n",
       "      <td>90.0</td>\n",
       "      <td>185.0</td>\n",
       "      <td>865.0</td>\n",
       "    </tr>\n",
       "    <tr>\n",
       "      <th>Other</th>\n",
       "      <td>6154.0</td>\n",
       "      <td>100.268443</td>\n",
       "      <td>147.488762</td>\n",
       "      <td>-5.0</td>\n",
       "      <td>15.0</td>\n",
       "      <td>45.0</td>\n",
       "      <td>104.0</td>\n",
       "      <td>855.0</td>\n",
       "    </tr>\n",
       "    <tr>\n",
       "      <th>Personal Biz</th>\n",
       "      <td>7905.0</td>\n",
       "      <td>59.630234</td>\n",
       "      <td>81.713175</td>\n",
       "      <td>0.0</td>\n",
       "      <td>5.0</td>\n",
       "      <td>35.0</td>\n",
       "      <td>75.0</td>\n",
       "      <td>770.0</td>\n",
       "    </tr>\n",
       "    <tr>\n",
       "      <th>PuDo</th>\n",
       "      <td>14160.0</td>\n",
       "      <td>14.418432</td>\n",
       "      <td>38.748506</td>\n",
       "      <td>0.0</td>\n",
       "      <td>1.0</td>\n",
       "      <td>5.0</td>\n",
       "      <td>15.0</td>\n",
       "      <td>822.0</td>\n",
       "    </tr>\n",
       "    <tr>\n",
       "      <th>Recreational</th>\n",
       "      <td>8392.0</td>\n",
       "      <td>69.852717</td>\n",
       "      <td>83.697310</td>\n",
       "      <td>0.0</td>\n",
       "      <td>0.0</td>\n",
       "      <td>55.0</td>\n",
       "      <td>90.0</td>\n",
       "      <td>660.0</td>\n",
       "    </tr>\n",
       "    <tr>\n",
       "      <th>Shop</th>\n",
       "      <td>17616.0</td>\n",
       "      <td>43.238136</td>\n",
       "      <td>51.706029</td>\n",
       "      <td>0.0</td>\n",
       "      <td>10.0</td>\n",
       "      <td>25.0</td>\n",
       "      <td>55.0</td>\n",
       "      <td>740.0</td>\n",
       "    </tr>\n",
       "    <tr>\n",
       "      <th>Social</th>\n",
       "      <td>16167.0</td>\n",
       "      <td>117.592008</td>\n",
       "      <td>107.271945</td>\n",
       "      <td>0.0</td>\n",
       "      <td>40.0</td>\n",
       "      <td>90.0</td>\n",
       "      <td>165.0</td>\n",
       "      <td>945.0</td>\n",
       "    </tr>\n",
       "    <tr>\n",
       "      <th>Study</th>\n",
       "      <td>6643.0</td>\n",
       "      <td>366.372723</td>\n",
       "      <td>131.908262</td>\n",
       "      <td>0.0</td>\n",
       "      <td>370.0</td>\n",
       "      <td>405.0</td>\n",
       "      <td>425.0</td>\n",
       "      <td>915.0</td>\n",
       "    </tr>\n",
       "    <tr>\n",
       "      <th>Work</th>\n",
       "      <td>21723.0</td>\n",
       "      <td>358.715601</td>\n",
       "      <td>204.103610</td>\n",
       "      <td>0.0</td>\n",
       "      <td>180.0</td>\n",
       "      <td>420.0</td>\n",
       "      <td>525.0</td>\n",
       "      <td>1075.0</td>\n",
       "    </tr>\n",
       "  </tbody>\n",
       "</table>\n",
       "</div>"
      ],
      "text/plain": [
       "                count        mean         std  min    25%    50%    75%     max\n",
       "ActType                                                                        \n",
       "Home          19877.0  129.745434  121.868361 -6.0   35.0   90.0  185.0   865.0\n",
       "Other          6154.0  100.268443  147.488762 -5.0   15.0   45.0  104.0   855.0\n",
       "Personal Biz   7905.0   59.630234   81.713175  0.0    5.0   35.0   75.0   770.0\n",
       "PuDo          14160.0   14.418432   38.748506  0.0    1.0    5.0   15.0   822.0\n",
       "Recreational   8392.0   69.852717   83.697310  0.0    0.0   55.0   90.0   660.0\n",
       "Shop          17616.0   43.238136   51.706029  0.0   10.0   25.0   55.0   740.0\n",
       "Social        16167.0  117.592008  107.271945  0.0   40.0   90.0  165.0   945.0\n",
       "Study          6643.0  366.372723  131.908262  0.0  370.0  405.0  425.0   915.0\n",
       "Work          21723.0  358.715601  204.103610  0.0  180.0  420.0  525.0  1075.0"
      ]
     },
     "execution_count": 93,
     "metadata": {},
     "output_type": "execute_result"
    }
   ],
   "source": [
    "trips.groupby(['ActType'])['ActDuration'].describe()"
   ]
  },
  {
   "cell_type": "code",
   "execution_count": 94,
   "metadata": {},
   "outputs": [
    {
     "data": {
      "text/plain": [
       "(PuDo            12629\n",
       " Shop             8953\n",
       " Home             3732\n",
       " Personal Biz     3419\n",
       " Recreational     2992\n",
       " Social           2721\n",
       " Other            2362\n",
       " Work             1336\n",
       " Study             202\n",
       " Name: ActType, dtype: int64,\n",
       " (38346, 40))"
      ]
     },
     "execution_count": 94,
     "metadata": {},
     "output_type": "execute_result"
    }
   ],
   "source": [
    "# Check the validability of Activity duration \n",
    "trips[trips.ActDuration <= 25].ActType.value_counts(), trips[trips.ActDuration <= 25].shape"
   ]
  },
  {
   "cell_type": "code",
   "execution_count": 95,
   "metadata": {},
   "outputs": [
    {
     "data": {
      "text/plain": [
       "(Home            65955\n",
       " Work            21723\n",
       " Shop            17617\n",
       " Social          16167\n",
       " PuDo            14160\n",
       " Recreational     8393\n",
       " Personal Biz     7907\n",
       " Study            6643\n",
       " Other            6154\n",
       " Name: ActType, dtype: int64,\n",
       " (164719, 40))"
      ]
     },
     "execution_count": 95,
     "metadata": {},
     "output_type": "execute_result"
    }
   ],
   "source": [
    "trips.ActType.value_counts(), trips.shape"
   ]
  },
  {
   "cell_type": "code",
   "execution_count": 96,
   "metadata": {},
   "outputs": [
    {
     "data": {
      "text/html": [
       "<div>\n",
       "<style scoped>\n",
       "    .dataframe tbody tr th:only-of-type {\n",
       "        vertical-align: middle;\n",
       "    }\n",
       "\n",
       "    .dataframe tbody tr th {\n",
       "        vertical-align: top;\n",
       "    }\n",
       "\n",
       "    .dataframe thead th {\n",
       "        text-align: right;\n",
       "    }\n",
       "</style>\n",
       "<table border=\"1\" class=\"dataframe\">\n",
       "  <thead>\n",
       "    <tr style=\"text-align: right;\">\n",
       "      <th></th>\n",
       "      <th>TRIPID</th>\n",
       "      <th>PERSID</th>\n",
       "      <th>HHID</th>\n",
       "      <th>TRIPNO</th>\n",
       "      <th>STARTIME</th>\n",
       "      <th>ARRTIME</th>\n",
       "      <th>DEPTIME</th>\n",
       "      <th>DURATION</th>\n",
       "      <th>TRAVTIME</th>\n",
       "      <th>TRIPTIME</th>\n",
       "      <th>WAITIME</th>\n",
       "      <th>CUMDIST</th>\n",
       "      <th>DIST_GRP</th>\n",
       "      <th>ORIGLGA</th>\n",
       "      <th>ORIGPLACE1</th>\n",
       "      <th>ORIGPLACE2</th>\n",
       "      <th>ORIGPURP1</th>\n",
       "      <th>ORIGPURP2</th>\n",
       "      <th>DESTLGA</th>\n",
       "      <th>DESTPLACE1</th>\n",
       "      <th>DESTPLACE2</th>\n",
       "      <th>DESTPURP1</th>\n",
       "      <th>DESTPURP2</th>\n",
       "      <th>TRIPPURP</th>\n",
       "      <th>STOPS</th>\n",
       "      <th>LINKMODE</th>\n",
       "      <th>MODE1</th>\n",
       "      <th>DIST1</th>\n",
       "      <th>WDTRIPWGT</th>\n",
       "      <th>PreActLocation</th>\n",
       "      <th>PreActLocationType</th>\n",
       "      <th>PreActType</th>\n",
       "      <th>ActLocation</th>\n",
       "      <th>ActLocationType</th>\n",
       "      <th>ActType</th>\n",
       "      <th>PreActEndTime</th>\n",
       "      <th>ActStartTime</th>\n",
       "      <th>ActEndTime</th>\n",
       "      <th>EndTimeAtHome</th>\n",
       "      <th>ActDuration</th>\n",
       "    </tr>\n",
       "  </thead>\n",
       "  <tbody>\n",
       "    <tr>\n",
       "      <th>0</th>\n",
       "      <td>Y12H0000101P01T01</td>\n",
       "      <td>Y12H0000101P01</td>\n",
       "      <td>Y12H0000101</td>\n",
       "      <td>1</td>\n",
       "      <td>525</td>\n",
       "      <td>545</td>\n",
       "      <td>1050.0</td>\n",
       "      <td>505.0</td>\n",
       "      <td>20</td>\n",
       "      <td>20</td>\n",
       "      <td>0</td>\n",
       "      <td>7.45</td>\n",
       "      <td>7 - 7.9</td>\n",
       "      <td>Whittlesea (C)</td>\n",
       "      <td>Accommodation</td>\n",
       "      <td>Survey Home</td>\n",
       "      <td>HmB</td>\n",
       "      <td>At or Go Home</td>\n",
       "      <td>Whittlesea (C)</td>\n",
       "      <td>Workplace</td>\n",
       "      <td>My Workplace</td>\n",
       "      <td>Work Related</td>\n",
       "      <td>Own Workplace</td>\n",
       "      <td>Work Related</td>\n",
       "      <td>1</td>\n",
       "      <td>Vehicle Driver</td>\n",
       "      <td>Vehicle Driver</td>\n",
       "      <td>7.45</td>\n",
       "      <td>97.79</td>\n",
       "      <td>Whittlesea (C)</td>\n",
       "      <td>Accommodation</td>\n",
       "      <td>Home</td>\n",
       "      <td>Whittlesea (C)</td>\n",
       "      <td>Workplace</td>\n",
       "      <td>Work</td>\n",
       "      <td>525</td>\n",
       "      <td>545</td>\n",
       "      <td>1050.0</td>\n",
       "      <td>1965</td>\n",
       "      <td>505.0</td>\n",
       "    </tr>\n",
       "    <tr>\n",
       "      <th>1</th>\n",
       "      <td>Y12H0000101P01T02</td>\n",
       "      <td>Y12H0000101P01</td>\n",
       "      <td>Y12H0000101</td>\n",
       "      <td>2</td>\n",
       "      <td>1050</td>\n",
       "      <td>1075</td>\n",
       "      <td>NaN</td>\n",
       "      <td>NaN</td>\n",
       "      <td>25</td>\n",
       "      <td>25</td>\n",
       "      <td>0</td>\n",
       "      <td>7.45</td>\n",
       "      <td>7 - 7.9</td>\n",
       "      <td>Whittlesea (C)</td>\n",
       "      <td>Workplace</td>\n",
       "      <td>My Workplace</td>\n",
       "      <td>Work Related</td>\n",
       "      <td>Own Workplace</td>\n",
       "      <td>Whittlesea (C)</td>\n",
       "      <td>Accommodation</td>\n",
       "      <td>Survey Home</td>\n",
       "      <td>HmE</td>\n",
       "      <td>At or Go Home</td>\n",
       "      <td>Work Related</td>\n",
       "      <td>1</td>\n",
       "      <td>Vehicle Driver</td>\n",
       "      <td>Vehicle Driver</td>\n",
       "      <td>7.45</td>\n",
       "      <td>97.79</td>\n",
       "      <td>Whittlesea (C)</td>\n",
       "      <td>Workplace</td>\n",
       "      <td>Work</td>\n",
       "      <td>Whittlesea (C)</td>\n",
       "      <td>Accommodation</td>\n",
       "      <td>Home</td>\n",
       "      <td>1050</td>\n",
       "      <td>1075</td>\n",
       "      <td>NaN</td>\n",
       "      <td>1965</td>\n",
       "      <td>NaN</td>\n",
       "    </tr>\n",
       "    <tr>\n",
       "      <th>2</th>\n",
       "      <td>Y12H0000101P02T01</td>\n",
       "      <td>Y12H0000101P02</td>\n",
       "      <td>Y12H0000101</td>\n",
       "      <td>1</td>\n",
       "      <td>500</td>\n",
       "      <td>520</td>\n",
       "      <td>540.0</td>\n",
       "      <td>20.0</td>\n",
       "      <td>20</td>\n",
       "      <td>20</td>\n",
       "      <td>0</td>\n",
       "      <td>3.92</td>\n",
       "      <td>3 - 3.9</td>\n",
       "      <td>Whittlesea (C)</td>\n",
       "      <td>Accommodation</td>\n",
       "      <td>Survey Home</td>\n",
       "      <td>HmB</td>\n",
       "      <td>At or Go Home</td>\n",
       "      <td>Whittlesea (C)</td>\n",
       "      <td>Place of Education</td>\n",
       "      <td>Primary School</td>\n",
       "      <td>Pick-up or Drop-off Someone</td>\n",
       "      <td>Someone picked-up or delivered</td>\n",
       "      <td>Pick-up or Drop-off Someone</td>\n",
       "      <td>1</td>\n",
       "      <td>Vehicle Driver</td>\n",
       "      <td>Vehicle Driver</td>\n",
       "      <td>3.92</td>\n",
       "      <td>92.98</td>\n",
       "      <td>Whittlesea (C)</td>\n",
       "      <td>Accommodation</td>\n",
       "      <td>Home</td>\n",
       "      <td>Whittlesea (C)</td>\n",
       "      <td>Place of Education</td>\n",
       "      <td>PuDo</td>\n",
       "      <td>500</td>\n",
       "      <td>520</td>\n",
       "      <td>540.0</td>\n",
       "      <td>1940</td>\n",
       "      <td>20.0</td>\n",
       "    </tr>\n",
       "    <tr>\n",
       "      <th>3</th>\n",
       "      <td>Y12H0000101P02T02</td>\n",
       "      <td>Y12H0000101P02</td>\n",
       "      <td>Y12H0000101</td>\n",
       "      <td>2</td>\n",
       "      <td>540</td>\n",
       "      <td>550</td>\n",
       "      <td>600.0</td>\n",
       "      <td>50.0</td>\n",
       "      <td>10</td>\n",
       "      <td>10</td>\n",
       "      <td>0</td>\n",
       "      <td>2.50</td>\n",
       "      <td>2 - 2.9</td>\n",
       "      <td>Whittlesea (C)</td>\n",
       "      <td>Place of Education</td>\n",
       "      <td>Primary School</td>\n",
       "      <td>Pick-up or Drop-off Someone</td>\n",
       "      <td>Someone picked-up or delivered</td>\n",
       "      <td>Whittlesea (C)</td>\n",
       "      <td>Shops</td>\n",
       "      <td>Shopping Centre</td>\n",
       "      <td>Buy Something</td>\n",
       "      <td>Bought something</td>\n",
       "      <td>Buy Something</td>\n",
       "      <td>1</td>\n",
       "      <td>Vehicle Driver</td>\n",
       "      <td>Vehicle Driver</td>\n",
       "      <td>2.50</td>\n",
       "      <td>92.98</td>\n",
       "      <td>Whittlesea (C)</td>\n",
       "      <td>Place of Education</td>\n",
       "      <td>PuDo</td>\n",
       "      <td>Whittlesea (C)</td>\n",
       "      <td>Shops</td>\n",
       "      <td>Shop</td>\n",
       "      <td>540</td>\n",
       "      <td>550</td>\n",
       "      <td>600.0</td>\n",
       "      <td>1940</td>\n",
       "      <td>50.0</td>\n",
       "    </tr>\n",
       "    <tr>\n",
       "      <th>4</th>\n",
       "      <td>Y12H0000101P02T03</td>\n",
       "      <td>Y12H0000101P02</td>\n",
       "      <td>Y12H0000101</td>\n",
       "      <td>3</td>\n",
       "      <td>600</td>\n",
       "      <td>610</td>\n",
       "      <td>890.0</td>\n",
       "      <td>280.0</td>\n",
       "      <td>10</td>\n",
       "      <td>10</td>\n",
       "      <td>0</td>\n",
       "      <td>2.55</td>\n",
       "      <td>2 - 2.9</td>\n",
       "      <td>Whittlesea (C)</td>\n",
       "      <td>Shops</td>\n",
       "      <td>Shopping Centre</td>\n",
       "      <td>Buy Something</td>\n",
       "      <td>Bought something</td>\n",
       "      <td>Whittlesea (C)</td>\n",
       "      <td>Accommodation</td>\n",
       "      <td>Survey Home</td>\n",
       "      <td>Go Home</td>\n",
       "      <td>At or Go Home</td>\n",
       "      <td>Buy Something</td>\n",
       "      <td>1</td>\n",
       "      <td>Vehicle Driver</td>\n",
       "      <td>Vehicle Driver</td>\n",
       "      <td>2.55</td>\n",
       "      <td>92.98</td>\n",
       "      <td>Whittlesea (C)</td>\n",
       "      <td>Shops</td>\n",
       "      <td>Shop</td>\n",
       "      <td>Whittlesea (C)</td>\n",
       "      <td>Accommodation</td>\n",
       "      <td>Home</td>\n",
       "      <td>600</td>\n",
       "      <td>610</td>\n",
       "      <td>890.0</td>\n",
       "      <td>1940</td>\n",
       "      <td>280.0</td>\n",
       "    </tr>\n",
       "  </tbody>\n",
       "</table>\n",
       "</div>"
      ],
      "text/plain": [
       "              TRIPID          PERSID         HHID  TRIPNO  STARTIME  ARRTIME  DEPTIME  DURATION  TRAVTIME  TRIPTIME  WAITIME  CUMDIST DIST_GRP         ORIGLGA          ORIGPLACE1       ORIGPLACE2                    ORIGPURP1                       ORIGPURP2         DESTLGA          DESTPLACE1       DESTPLACE2                    DESTPURP1                       DESTPURP2                     TRIPPURP  STOPS        LINKMODE           MODE1  DIST1 WDTRIPWGT  PreActLocation  PreActLocationType PreActType     ActLocation     ActLocationType ActType  PreActEndTime  ActStartTime  ActEndTime  EndTimeAtHome  ActDuration\n",
       "0  Y12H0000101P01T01  Y12H0000101P01  Y12H0000101       1       525      545   1050.0     505.0        20        20        0     7.45  7 - 7.9  Whittlesea (C)       Accommodation      Survey Home                          HmB                   At or Go Home  Whittlesea (C)           Workplace     My Workplace                 Work Related                   Own Workplace                 Work Related      1  Vehicle Driver  Vehicle Driver   7.45     97.79  Whittlesea (C)       Accommodation       Home  Whittlesea (C)           Workplace    Work            525           545      1050.0           1965        505.0\n",
       "1  Y12H0000101P01T02  Y12H0000101P01  Y12H0000101       2      1050     1075      NaN       NaN        25        25        0     7.45  7 - 7.9  Whittlesea (C)           Workplace     My Workplace                 Work Related                   Own Workplace  Whittlesea (C)       Accommodation      Survey Home                          HmE                   At or Go Home                 Work Related      1  Vehicle Driver  Vehicle Driver   7.45     97.79  Whittlesea (C)           Workplace       Work  Whittlesea (C)       Accommodation    Home           1050          1075         NaN           1965          NaN\n",
       "2  Y12H0000101P02T01  Y12H0000101P02  Y12H0000101       1       500      520    540.0      20.0        20        20        0     3.92  3 - 3.9  Whittlesea (C)       Accommodation      Survey Home                          HmB                   At or Go Home  Whittlesea (C)  Place of Education   Primary School  Pick-up or Drop-off Someone  Someone picked-up or delivered  Pick-up or Drop-off Someone      1  Vehicle Driver  Vehicle Driver   3.92     92.98  Whittlesea (C)       Accommodation       Home  Whittlesea (C)  Place of Education    PuDo            500           520       540.0           1940         20.0\n",
       "3  Y12H0000101P02T02  Y12H0000101P02  Y12H0000101       2       540      550    600.0      50.0        10        10        0     2.50  2 - 2.9  Whittlesea (C)  Place of Education   Primary School  Pick-up or Drop-off Someone  Someone picked-up or delivered  Whittlesea (C)               Shops  Shopping Centre                Buy Something                Bought something                Buy Something      1  Vehicle Driver  Vehicle Driver   2.50     92.98  Whittlesea (C)  Place of Education       PuDo  Whittlesea (C)               Shops    Shop            540           550       600.0           1940         50.0\n",
       "4  Y12H0000101P02T03  Y12H0000101P02  Y12H0000101       3       600      610    890.0     280.0        10        10        0     2.55  2 - 2.9  Whittlesea (C)               Shops  Shopping Centre                Buy Something                Bought something  Whittlesea (C)       Accommodation      Survey Home                      Go Home                   At or Go Home                Buy Something      1  Vehicle Driver  Vehicle Driver   2.55     92.98  Whittlesea (C)               Shops       Shop  Whittlesea (C)       Accommodation    Home            600           610       890.0           1940        280.0"
      ]
     },
     "execution_count": 96,
     "metadata": {},
     "output_type": "execute_result"
    }
   ],
   "source": [
    "trips.head()"
   ]
  },
  {
   "cell_type": "code",
   "execution_count": 97,
   "metadata": {},
   "outputs": [
    {
     "data": {
      "text/plain": [
       "(164719, 10)"
      ]
     },
     "execution_count": 97,
     "metadata": {},
     "output_type": "execute_result"
    }
   ],
   "source": [
    "act_cols = ['TRIPID','PERSID','HHID','TRIPNO','ActLocation','ActLocationType','ActType',\n",
    "            'ActStartTime','ActEndTime','ActDuration']\n",
    "activities = trips[act_cols]\n",
    "activities.shape"
   ]
  },
  {
   "cell_type": "code",
   "execution_count": 98,
   "metadata": {},
   "outputs": [
    {
     "data": {
      "text/plain": [
       "Melbourne (C)               10242\n",
       "Boroondara (C)               8189\n",
       "Greater Geelong (C)          7951\n",
       "Whitehorse (C)               7837\n",
       "Casey (C)                    7753\n",
       "Monash (C)                   7739\n",
       "Mornington Peninsula (S)     6961\n",
       "Kingston (C)                 6334\n",
       "Wyndham (C)                  5686\n",
       "Knox (C)                     5575\n",
       "Manningham (C)               5110\n",
       "Glen Eira (C)                5075\n",
       "Frankston (C)                5027\n",
       "Darebin (C)                  4720\n",
       "Moreland (C)                 4719\n",
       "Brimbank (C)                 4682\n",
       "Maroondah (C)                4678\n",
       "Whittlesea (C)               4654\n",
       "Hume (C)                     4636\n",
       "Banyule (C)                  4603\n",
       "Stonnington (C)              4594\n",
       "Greater Dandenong (C)        4374\n",
       "Yarra Ranges (S)             4265\n",
       "Moonee Valley (C)            4206\n",
       "Port Phillip (C)             3806\n",
       "Yarra (C)                    3690\n",
       "Bayside (C)                  3603\n",
       "Hobsons Bay (C)              2914\n",
       "Maribyrnong (C)              2739\n",
       "Melton (S)                   2683\n",
       "Nillumbik (S)                2454\n",
       "Cardinia (S)                 2306\n",
       "Macedon Ranges (S)            131\n",
       "Surf Coast (S)                122\n",
       "Moorabool (S)                  81\n",
       "Ballarat (C)                   73\n",
       "Queenscliffe (B)               53\n",
       "Bass Coast (S)                 49\n",
       "Mitchell (S)                   49\n",
       "Baw Baw (S)                    48\n",
       "Murrindindi (S)                42\n",
       "Latrobe (C)                    31\n",
       "Hepburn (S)                    29\n",
       "Golden Plains (S)              24\n",
       "Greater Bendigo (C)            24\n",
       "South Gippsland (S)            21\n",
       "Greater Shepparton (C)         12\n",
       "Wellington (S)                  9\n",
       "Colac-Otway (S)                 9\n",
       "Ararat (RC)                     7\n",
       "Mount Alexander (S)             5\n",
       "Mansfield (S)                   4\n",
       "Benalla (RC)                    4\n",
       "Warrnambool (C)                 3\n",
       "Unincorporated Victoria         3\n",
       "Swan Hill (RC)                  3\n",
       "Indigo (S)                      1\n",
       "Moyne (S)                       1\n",
       "East Gippsland (S)              1\n",
       "Corangamite (S)                 1\n",
       "Wangaratta (RC)                 1\n",
       "Moira (S)                       1\n",
       "Campaspe (S)                    1\n",
       "Strathbogie (S)                 1\n",
       "Glenelg (S)                     1\n",
       "Yarriambiack (S)                1\n",
       "Name: ActLocation, dtype: int64"
      ]
     },
     "execution_count": 98,
     "metadata": {},
     "output_type": "execute_result"
    }
   ],
   "source": [
    "activities.ActLocation.value_counts()"
   ]
  },
  {
   "cell_type": "code",
   "execution_count": 99,
   "metadata": {},
   "outputs": [],
   "source": [
    "# Save activities for further analysis\n",
    "activities.to_csv(\"../data/activities.csv\", index=False)"
   ]
  },
  {
   "cell_type": "code",
   "execution_count": null,
   "metadata": {},
   "outputs": [],
   "source": []
  }
 ],
 "metadata": {
  "kernelspec": {
   "display_name": "Python 3",
   "language": "python",
   "name": "python3"
  },
  "language_info": {
   "codemirror_mode": {
    "name": "ipython",
    "version": 3
   },
   "file_extension": ".py",
   "mimetype": "text/x-python",
   "name": "python",
   "nbconvert_exporter": "python",
   "pygments_lexer": "ipython3",
   "version": "3.7.10"
  }
 },
 "nbformat": 4,
 "nbformat_minor": 4
}
